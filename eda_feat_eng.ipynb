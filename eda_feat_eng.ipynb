{
 "cells": [
  {
   "cell_type": "code",
   "execution_count": 10,
   "metadata": {},
   "outputs": [],
   "source": [
    "import numpy as np\n",
    "import pandas as pd\n",
    "import matplotlib.pyplot as plt\n",
    "\n",
    "import re\n",
    "\n",
    "import pickle"
   ]
  },
  {
   "cell_type": "code",
   "execution_count": 5,
   "metadata": {},
   "outputs": [],
   "source": [
    "with open('cl_matches.p', 'rb') as f:\n",
    "    data = pickle.load(f)"
   ]
  },
  {
   "cell_type": "code",
   "execution_count": 6,
   "metadata": {},
   "outputs": [],
   "source": [
    "df = pd.DataFrame(data)"
   ]
  },
  {
   "cell_type": "code",
   "execution_count": 34,
   "metadata": {},
   "outputs": [
    {
     "data": {
      "text/html": [
       "<div>\n",
       "<style scoped>\n",
       "    .dataframe tbody tr th:only-of-type {\n",
       "        vertical-align: middle;\n",
       "    }\n",
       "\n",
       "    .dataframe tbody tr th {\n",
       "        vertical-align: top;\n",
       "    }\n",
       "\n",
       "    .dataframe thead th {\n",
       "        text-align: right;\n",
       "    }\n",
       "</style>\n",
       "<table border=\"1\" class=\"dataframe\">\n",
       "  <thead>\n",
       "    <tr style=\"text-align: right;\">\n",
       "      <th></th>\n",
       "      <th>home_team</th>\n",
       "      <th>away_team</th>\n",
       "      <th>score</th>\n",
       "      <th>match_season</th>\n",
       "      <th>home_value</th>\n",
       "      <th>away_value</th>\n",
       "      <th>score_diff</th>\n",
       "    </tr>\n",
       "  </thead>\n",
       "  <tbody>\n",
       "    <tr>\n",
       "      <th>0</th>\n",
       "      <td>AC Milan</td>\n",
       "      <td>Liverpool</td>\n",
       "      <td>5:6 on pens</td>\n",
       "      <td>2004</td>\n",
       "      <td>273.70</td>\n",
       "      <td>200.12</td>\n",
       "      <td>0</td>\n",
       "    </tr>\n",
       "    <tr>\n",
       "      <th>1</th>\n",
       "      <td>Liverpool</td>\n",
       "      <td>Chelsea</td>\n",
       "      <td>1:0</td>\n",
       "      <td>2004</td>\n",
       "      <td>200.12</td>\n",
       "      <td>331.47</td>\n",
       "      <td>1</td>\n",
       "    </tr>\n",
       "    <tr>\n",
       "      <th>2</th>\n",
       "      <td>PSV Eindhoven</td>\n",
       "      <td>AC Milan</td>\n",
       "      <td>3:1</td>\n",
       "      <td>2004</td>\n",
       "      <td>86.85</td>\n",
       "      <td>273.70</td>\n",
       "      <td>2</td>\n",
       "    </tr>\n",
       "  </tbody>\n",
       "</table>\n",
       "</div>"
      ],
      "text/plain": [
       "       home_team  away_team        score  match_season  home_value  \\\n",
       "0       AC Milan  Liverpool  5:6 on pens          2004      273.70   \n",
       "1      Liverpool    Chelsea          1:0          2004      200.12   \n",
       "2  PSV Eindhoven   AC Milan          3:1          2004       86.85   \n",
       "\n",
       "   away_value  score_diff  \n",
       "0      200.12           0  \n",
       "1      331.47           1  \n",
       "2      273.70           2  "
      ]
     },
     "execution_count": 34,
     "metadata": {},
     "output_type": "execute_result"
    }
   ],
   "source": [
    "df.head(3)"
   ]
  },
  {
   "cell_type": "code",
   "execution_count": 30,
   "metadata": {},
   "outputs": [],
   "source": [
    "# Function to clean and feature engineer scoring\n",
    "def score_cleaner(x):\n",
    "    if re.search(r'on pens', x):\n",
    "        diff = 0\n",
    "    elif re.search(r'AET', x):\n",
    "        x = x[:-4].split(':')\n",
    "        diff = int(x[0]) - int(x[1])\n",
    "    else:\n",
    "        x = x.split(':')\n",
    "        diff = int(x[0]) - int(x[1])\n",
    "    \n",
    "    return diff"
   ]
  },
  {
   "cell_type": "code",
   "execution_count": 31,
   "metadata": {},
   "outputs": [],
   "source": [
    "df['score_diff'] = df['score'].map(score_cleaner)"
   ]
  },
  {
   "cell_type": "code",
   "execution_count": 33,
   "metadata": {},
   "outputs": [
    {
     "data": {
      "text/html": [
       "<div>\n",
       "<style scoped>\n",
       "    .dataframe tbody tr th:only-of-type {\n",
       "        vertical-align: middle;\n",
       "    }\n",
       "\n",
       "    .dataframe tbody tr th {\n",
       "        vertical-align: top;\n",
       "    }\n",
       "\n",
       "    .dataframe thead th {\n",
       "        text-align: right;\n",
       "    }\n",
       "</style>\n",
       "<table border=\"1\" class=\"dataframe\">\n",
       "  <thead>\n",
       "    <tr style=\"text-align: right;\">\n",
       "      <th></th>\n",
       "      <th>home_team</th>\n",
       "      <th>away_team</th>\n",
       "      <th>score</th>\n",
       "      <th>match_season</th>\n",
       "      <th>home_value</th>\n",
       "      <th>away_value</th>\n",
       "      <th>score_diff</th>\n",
       "    </tr>\n",
       "  </thead>\n",
       "  <tbody>\n",
       "    <tr>\n",
       "      <th>0</th>\n",
       "      <td>AC Milan</td>\n",
       "      <td>Liverpool</td>\n",
       "      <td>5:6 on pens</td>\n",
       "      <td>2004</td>\n",
       "      <td>273.70</td>\n",
       "      <td>200.12</td>\n",
       "      <td>0</td>\n",
       "    </tr>\n",
       "    <tr>\n",
       "      <th>1</th>\n",
       "      <td>Liverpool</td>\n",
       "      <td>Chelsea</td>\n",
       "      <td>1:0</td>\n",
       "      <td>2004</td>\n",
       "      <td>200.12</td>\n",
       "      <td>331.47</td>\n",
       "      <td>1</td>\n",
       "    </tr>\n",
       "    <tr>\n",
       "      <th>2</th>\n",
       "      <td>PSV Eindhoven</td>\n",
       "      <td>AC Milan</td>\n",
       "      <td>3:1</td>\n",
       "      <td>2004</td>\n",
       "      <td>86.85</td>\n",
       "      <td>273.70</td>\n",
       "      <td>2</td>\n",
       "    </tr>\n",
       "  </tbody>\n",
       "</table>\n",
       "</div>"
      ],
      "text/plain": [
       "       home_team  away_team        score  match_season  home_value  \\\n",
       "0       AC Milan  Liverpool  5:6 on pens          2004      273.70   \n",
       "1      Liverpool    Chelsea          1:0          2004      200.12   \n",
       "2  PSV Eindhoven   AC Milan          3:1          2004       86.85   \n",
       "\n",
       "   away_value  score_diff  \n",
       "0      200.12           0  \n",
       "1      331.47           1  \n",
       "2      273.70           2  "
      ]
     },
     "execution_count": 33,
     "metadata": {},
     "output_type": "execute_result"
    }
   ],
   "source": [
    "df.head(3)"
   ]
  },
  {
   "cell_type": "code",
   "execution_count": 35,
   "metadata": {},
   "outputs": [],
   "source": [
    "df['value_diff'] = df['home_value'] - df['away_value']"
   ]
  },
  {
   "cell_type": "code",
   "execution_count": 38,
   "metadata": {},
   "outputs": [
    {
     "data": {
      "text/html": [
       "<div>\n",
       "<style scoped>\n",
       "    .dataframe tbody tr th:only-of-type {\n",
       "        vertical-align: middle;\n",
       "    }\n",
       "\n",
       "    .dataframe tbody tr th {\n",
       "        vertical-align: top;\n",
       "    }\n",
       "\n",
       "    .dataframe thead th {\n",
       "        text-align: right;\n",
       "    }\n",
       "</style>\n",
       "<table border=\"1\" class=\"dataframe\">\n",
       "  <thead>\n",
       "    <tr style=\"text-align: right;\">\n",
       "      <th></th>\n",
       "      <th>home_team</th>\n",
       "      <th>away_team</th>\n",
       "      <th>score</th>\n",
       "      <th>match_season</th>\n",
       "      <th>home_value</th>\n",
       "      <th>away_value</th>\n",
       "      <th>score_diff</th>\n",
       "      <th>value_diff</th>\n",
       "    </tr>\n",
       "  </thead>\n",
       "  <tbody>\n",
       "    <tr>\n",
       "      <th>0</th>\n",
       "      <td>AC Milan</td>\n",
       "      <td>Liverpool</td>\n",
       "      <td>5:6 on pens</td>\n",
       "      <td>2004</td>\n",
       "      <td>273.70</td>\n",
       "      <td>200.12</td>\n",
       "      <td>0</td>\n",
       "      <td>73.58</td>\n",
       "    </tr>\n",
       "    <tr>\n",
       "      <th>1</th>\n",
       "      <td>Liverpool</td>\n",
       "      <td>Chelsea</td>\n",
       "      <td>1:0</td>\n",
       "      <td>2004</td>\n",
       "      <td>200.12</td>\n",
       "      <td>331.47</td>\n",
       "      <td>1</td>\n",
       "      <td>-131.35</td>\n",
       "    </tr>\n",
       "    <tr>\n",
       "      <th>2</th>\n",
       "      <td>PSV Eindhoven</td>\n",
       "      <td>AC Milan</td>\n",
       "      <td>3:1</td>\n",
       "      <td>2004</td>\n",
       "      <td>86.85</td>\n",
       "      <td>273.70</td>\n",
       "      <td>2</td>\n",
       "      <td>-186.85</td>\n",
       "    </tr>\n",
       "  </tbody>\n",
       "</table>\n",
       "</div>"
      ],
      "text/plain": [
       "       home_team  away_team        score  match_season  home_value  \\\n",
       "0       AC Milan  Liverpool  5:6 on pens          2004      273.70   \n",
       "1      Liverpool    Chelsea          1:0          2004      200.12   \n",
       "2  PSV Eindhoven   AC Milan          3:1          2004       86.85   \n",
       "\n",
       "   away_value  score_diff  value_diff  \n",
       "0      200.12           0       73.58  \n",
       "1      331.47           1     -131.35  \n",
       "2      273.70           2     -186.85  "
      ]
     },
     "execution_count": 38,
     "metadata": {},
     "output_type": "execute_result"
    }
   ],
   "source": [
    "df.head(3)"
   ]
  },
  {
   "cell_type": "code",
   "execution_count": null,
   "metadata": {},
   "outputs": [],
   "source": []
  }
 ],
 "metadata": {
  "kernelspec": {
   "display_name": "soccer-venv",
   "language": "python",
   "name": "soccer-venv"
  },
  "language_info": {
   "codemirror_mode": {
    "name": "ipython",
    "version": 3
   },
   "file_extension": ".py",
   "mimetype": "text/x-python",
   "name": "python",
   "nbconvert_exporter": "python",
   "pygments_lexer": "ipython3",
   "version": "3.7.7"
  }
 },
 "nbformat": 4,
 "nbformat_minor": 4
}
