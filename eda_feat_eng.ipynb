{
 "cells": [
  {
   "cell_type": "markdown",
   "metadata": {},
   "source": [
    "# Initial EDA and Feauture Engineering"
   ]
  },
  {
   "cell_type": "code",
   "execution_count": 1,
   "metadata": {},
   "outputs": [],
   "source": [
    "import numpy as np\n",
    "import pandas as pd\n",
    "import matplotlib.pyplot as plt\n",
    "import seaborn as sns\n",
    "\n",
    "import re\n",
    "\n",
    "import pickle"
   ]
  },
  {
   "cell_type": "code",
   "execution_count": 2,
   "metadata": {},
   "outputs": [],
   "source": [
    "with open('cl_matches.p', 'rb') as f:\n",
    "    data = pickle.load(f)"
   ]
  },
  {
   "cell_type": "markdown",
   "metadata": {},
   "source": [
    "## Initial Feature Engineering\n",
    "- Create feature for value difference between home team and away team\n",
    "- Create feature for score difference between home team and away team\n",
    "- Create features for \"richer team\" vs. \"poorer team\""
   ]
  },
  {
   "cell_type": "code",
   "execution_count": 3,
   "metadata": {},
   "outputs": [],
   "source": [
    "df = pd.DataFrame(data)"
   ]
  },
  {
   "cell_type": "code",
   "execution_count": 4,
   "metadata": {},
   "outputs": [
    {
     "data": {
      "text/html": [
       "<div>\n",
       "<style scoped>\n",
       "    .dataframe tbody tr th:only-of-type {\n",
       "        vertical-align: middle;\n",
       "    }\n",
       "\n",
       "    .dataframe tbody tr th {\n",
       "        vertical-align: top;\n",
       "    }\n",
       "\n",
       "    .dataframe thead th {\n",
       "        text-align: right;\n",
       "    }\n",
       "</style>\n",
       "<table border=\"1\" class=\"dataframe\">\n",
       "  <thead>\n",
       "    <tr style=\"text-align: right;\">\n",
       "      <th></th>\n",
       "      <th>home_team</th>\n",
       "      <th>away_team</th>\n",
       "      <th>score</th>\n",
       "      <th>match_season</th>\n",
       "      <th>home_value</th>\n",
       "      <th>away_value</th>\n",
       "    </tr>\n",
       "  </thead>\n",
       "  <tbody>\n",
       "    <tr>\n",
       "      <th>0</th>\n",
       "      <td>AC Milan</td>\n",
       "      <td>Liverpool</td>\n",
       "      <td>5:6 on pens</td>\n",
       "      <td>2004</td>\n",
       "      <td>273.70</td>\n",
       "      <td>200.12</td>\n",
       "    </tr>\n",
       "    <tr>\n",
       "      <th>1</th>\n",
       "      <td>Liverpool</td>\n",
       "      <td>Chelsea</td>\n",
       "      <td>1:0</td>\n",
       "      <td>2004</td>\n",
       "      <td>200.12</td>\n",
       "      <td>331.47</td>\n",
       "    </tr>\n",
       "    <tr>\n",
       "      <th>2</th>\n",
       "      <td>PSV Eindhoven</td>\n",
       "      <td>AC Milan</td>\n",
       "      <td>3:1</td>\n",
       "      <td>2004</td>\n",
       "      <td>86.85</td>\n",
       "      <td>273.70</td>\n",
       "    </tr>\n",
       "  </tbody>\n",
       "</table>\n",
       "</div>"
      ],
      "text/plain": [
       "       home_team  away_team        score  match_season  home_value  away_value\n",
       "0       AC Milan  Liverpool  5:6 on pens          2004      273.70      200.12\n",
       "1      Liverpool    Chelsea          1:0          2004      200.12      331.47\n",
       "2  PSV Eindhoven   AC Milan          3:1          2004       86.85      273.70"
      ]
     },
     "execution_count": 4,
     "metadata": {},
     "output_type": "execute_result"
    }
   ],
   "source": [
    "df.head(3)"
   ]
  },
  {
   "cell_type": "code",
   "execution_count": 5,
   "metadata": {},
   "outputs": [],
   "source": [
    "# Function to clean and convert score string to ints\n",
    "def score_cleaner(x):\n",
    "    if re.search(r'on pens', x):\n",
    "        diff = 0\n",
    "    elif re.search(r'AET', x):\n",
    "        x = x[:-4].split(':')\n",
    "        diff = int(x[0]) - int(x[1])\n",
    "    else:\n",
    "        x = x.split(':')\n",
    "        diff = int(x[0]) - int(x[1])\n",
    "    \n",
    "    return diff"
   ]
  },
  {
   "cell_type": "code",
   "execution_count": 6,
   "metadata": {},
   "outputs": [],
   "source": [
    "df['score_diff'] = df['score'].map(score_cleaner)\n",
    "df['value_diff'] = df['home_value'] - df['away_value']"
   ]
  },
  {
   "cell_type": "code",
   "execution_count": 7,
   "metadata": {},
   "outputs": [],
   "source": [
    "# Convert scores from home team - away team to \"rich team\" - \"score team\"\n",
    "df['rp_score_diff'] = np.select(\n",
    "    [df['home_value'] >= df['away_value'], df['home_value'] < df['away_value']],\n",
    "    [df['score_diff'], -df['score_diff']]\n",
    ")\n",
    "\n",
    "# Convert value_diff to absolute (\"rich team\" value - \"poor team\" value)\n",
    "df['rp_value_diff'] = np.abs(df['value_diff'])"
   ]
  },
  {
   "cell_type": "code",
   "execution_count": 40,
   "metadata": {},
   "outputs": [],
   "source": [
    "df['richer'] = np.where(df['home_value'] > df['away_value'], df['home_value'], df['away_value'])\n",
    "df['poorer'] = np.where(df['home_value'] < df['away_value'], df['home_value'], df['away_value'])"
   ]
  },
  {
   "cell_type": "code",
   "execution_count": 41,
   "metadata": {},
   "outputs": [
    {
     "data": {
      "text/html": [
       "<div>\n",
       "<style scoped>\n",
       "    .dataframe tbody tr th:only-of-type {\n",
       "        vertical-align: middle;\n",
       "    }\n",
       "\n",
       "    .dataframe tbody tr th {\n",
       "        vertical-align: top;\n",
       "    }\n",
       "\n",
       "    .dataframe thead th {\n",
       "        text-align: right;\n",
       "    }\n",
       "</style>\n",
       "<table border=\"1\" class=\"dataframe\">\n",
       "  <thead>\n",
       "    <tr style=\"text-align: right;\">\n",
       "      <th></th>\n",
       "      <th>home_team</th>\n",
       "      <th>away_team</th>\n",
       "      <th>score</th>\n",
       "      <th>match_season</th>\n",
       "      <th>home_value</th>\n",
       "      <th>away_value</th>\n",
       "      <th>score_diff</th>\n",
       "      <th>value_diff</th>\n",
       "      <th>rp_score_diff</th>\n",
       "      <th>rp_value_diff</th>\n",
       "      <th>richer</th>\n",
       "      <th>poorer</th>\n",
       "    </tr>\n",
       "  </thead>\n",
       "  <tbody>\n",
       "    <tr>\n",
       "      <th>0</th>\n",
       "      <td>AC Milan</td>\n",
       "      <td>Liverpool</td>\n",
       "      <td>5:6 on pens</td>\n",
       "      <td>2004</td>\n",
       "      <td>273.70</td>\n",
       "      <td>200.12</td>\n",
       "      <td>0</td>\n",
       "      <td>73.58</td>\n",
       "      <td>0</td>\n",
       "      <td>73.58</td>\n",
       "      <td>273.70</td>\n",
       "      <td>200.12</td>\n",
       "    </tr>\n",
       "    <tr>\n",
       "      <th>1</th>\n",
       "      <td>Liverpool</td>\n",
       "      <td>Chelsea</td>\n",
       "      <td>1:0</td>\n",
       "      <td>2004</td>\n",
       "      <td>200.12</td>\n",
       "      <td>331.47</td>\n",
       "      <td>1</td>\n",
       "      <td>-131.35</td>\n",
       "      <td>-1</td>\n",
       "      <td>131.35</td>\n",
       "      <td>331.47</td>\n",
       "      <td>200.12</td>\n",
       "    </tr>\n",
       "    <tr>\n",
       "      <th>2</th>\n",
       "      <td>PSV Eindhoven</td>\n",
       "      <td>AC Milan</td>\n",
       "      <td>3:1</td>\n",
       "      <td>2004</td>\n",
       "      <td>86.85</td>\n",
       "      <td>273.70</td>\n",
       "      <td>2</td>\n",
       "      <td>-186.85</td>\n",
       "      <td>-2</td>\n",
       "      <td>186.85</td>\n",
       "      <td>273.70</td>\n",
       "      <td>86.85</td>\n",
       "    </tr>\n",
       "    <tr>\n",
       "      <th>3</th>\n",
       "      <td>AC Milan</td>\n",
       "      <td>PSV Eindhoven</td>\n",
       "      <td>2:0</td>\n",
       "      <td>2004</td>\n",
       "      <td>273.70</td>\n",
       "      <td>86.85</td>\n",
       "      <td>2</td>\n",
       "      <td>186.85</td>\n",
       "      <td>2</td>\n",
       "      <td>186.85</td>\n",
       "      <td>273.70</td>\n",
       "      <td>86.85</td>\n",
       "    </tr>\n",
       "    <tr>\n",
       "      <th>4</th>\n",
       "      <td>Chelsea</td>\n",
       "      <td>Liverpool</td>\n",
       "      <td>0:0</td>\n",
       "      <td>2004</td>\n",
       "      <td>331.47</td>\n",
       "      <td>200.12</td>\n",
       "      <td>0</td>\n",
       "      <td>131.35</td>\n",
       "      <td>0</td>\n",
       "      <td>131.35</td>\n",
       "      <td>331.47</td>\n",
       "      <td>200.12</td>\n",
       "    </tr>\n",
       "  </tbody>\n",
       "</table>\n",
       "</div>"
      ],
      "text/plain": [
       "       home_team      away_team        score  match_season  home_value  \\\n",
       "0       AC Milan      Liverpool  5:6 on pens          2004      273.70   \n",
       "1      Liverpool        Chelsea          1:0          2004      200.12   \n",
       "2  PSV Eindhoven       AC Milan          3:1          2004       86.85   \n",
       "3       AC Milan  PSV Eindhoven          2:0          2004      273.70   \n",
       "4        Chelsea      Liverpool          0:0          2004      331.47   \n",
       "\n",
       "   away_value  score_diff  value_diff  rp_score_diff  rp_value_diff  richer  \\\n",
       "0      200.12           0       73.58              0          73.58  273.70   \n",
       "1      331.47           1     -131.35             -1         131.35  331.47   \n",
       "2      273.70           2     -186.85             -2         186.85  273.70   \n",
       "3       86.85           2      186.85              2         186.85  273.70   \n",
       "4      200.12           0      131.35              0         131.35  331.47   \n",
       "\n",
       "   poorer  \n",
       "0  200.12  \n",
       "1  200.12  \n",
       "2   86.85  \n",
       "3   86.85  \n",
       "4  200.12  "
      ]
     },
     "execution_count": 41,
     "metadata": {},
     "output_type": "execute_result"
    }
   ],
   "source": [
    "df.head()"
   ]
  },
  {
   "cell_type": "markdown",
   "metadata": {},
   "source": [
    "## Initial EDA and Data Viz"
   ]
  },
  {
   "cell_type": "code",
   "execution_count": 75,
   "metadata": {},
   "outputs": [
    {
     "data": {
      "image/png": "[encoded data removed]",
      "text/plain": [
       "<Figure size 432x288 with 1 Axes>"
      ]
     },
     "metadata": {
      "needs_background": "light"
     },
     "output_type": "display_data"
    }
   ],
   "source": [
    "sns.regplot(x='value_diff', y='score_diff', data=df, line_kws={'color': 'red'})\n",
    "plt.xlabel('Value Difference (in millions €)')\n",
    "plt.ylabel('Score Difference')\n",
    "plt.title('Score Difference vs. Value Difference Across All Matches (home - away)')\n",
    "plt.show()"
   ]
  },
  {
   "cell_type": "code",
   "execution_count": 76,
   "metadata": {},
   "outputs": [
    {
     "data": {
      "image/png": "[encoded data removed]",
      "text/plain": [
       "<Figure size 432x288 with 1 Axes>"
      ]
     },
     "metadata": {
      "needs_background": "light"
     },
     "output_type": "display_data"
    }
   ],
   "source": [
    "sns.regplot(x='rp_value_diff', y='rp_score_diff', data=df, line_kws={'color': 'red'})\n",
    "plt.xlabel('Value Difference (in millions €)')\n",
    "plt.ylabel('Score Difference')\n",
    "plt.title('Score Difference vs. Value Difference Across All Matches (richer - poorer)')\n",
    "plt.show()"
   ]
  },
  {
   "cell_type": "code",
   "execution_count": 77,
   "metadata": {},
   "outputs": [
    {
     "data": {
      "text/html": [
       "<div>\n",
       "<style scoped>\n",
       "    .dataframe tbody tr th:only-of-type {\n",
       "        vertical-align: middle;\n",
       "    }\n",
       "\n",
       "    .dataframe tbody tr th {\n",
       "        vertical-align: top;\n",
       "    }\n",
       "\n",
       "    .dataframe thead th {\n",
       "        text-align: right;\n",
       "    }\n",
       "</style>\n",
       "<table border=\"1\" class=\"dataframe\">\n",
       "  <thead>\n",
       "    <tr style=\"text-align: right;\">\n",
       "      <th></th>\n",
       "      <th>match_season</th>\n",
       "      <th>home_value</th>\n",
       "      <th>away_value</th>\n",
       "      <th>score_diff</th>\n",
       "      <th>value_diff</th>\n",
       "      <th>rp_score_diff</th>\n",
       "      <th>rp_value_diff</th>\n",
       "      <th>richer</th>\n",
       "      <th>poorer</th>\n",
       "    </tr>\n",
       "  </thead>\n",
       "  <tbody>\n",
       "    <tr>\n",
       "      <th>match_season</th>\n",
       "      <td>1.000000</td>\n",
       "      <td>0.466448</td>\n",
       "      <td>0.468859</td>\n",
       "      <td>-0.021880</td>\n",
       "      <td>-0.002548</td>\n",
       "      <td>0.048571</td>\n",
       "      <td>0.460245</td>\n",
       "      <td>0.623548</td>\n",
       "      <td>0.410308</td>\n",
       "    </tr>\n",
       "    <tr>\n",
       "      <th>home_value</th>\n",
       "      <td>0.466448</td>\n",
       "      <td>1.000000</td>\n",
       "      <td>0.244600</td>\n",
       "      <td>0.312904</td>\n",
       "      <td>0.613793</td>\n",
       "      <td>0.128063</td>\n",
       "      <td>0.387675</td>\n",
       "      <td>0.742925</td>\n",
       "      <td>0.677507</td>\n",
       "    </tr>\n",
       "    <tr>\n",
       "      <th>away_value</th>\n",
       "      <td>0.468859</td>\n",
       "      <td>0.244600</td>\n",
       "      <td>1.000000</td>\n",
       "      <td>-0.305095</td>\n",
       "      <td>-0.615353</td>\n",
       "      <td>-0.088245</td>\n",
       "      <td>0.387561</td>\n",
       "      <td>0.743436</td>\n",
       "      <td>0.678421</td>\n",
       "    </tr>\n",
       "    <tr>\n",
       "      <th>score_diff</th>\n",
       "      <td>-0.021880</td>\n",
       "      <td>0.312904</td>\n",
       "      <td>-0.305095</td>\n",
       "      <td>1.000000</td>\n",
       "      <td>0.502782</td>\n",
       "      <td>0.133215</td>\n",
       "      <td>-0.003593</td>\n",
       "      <td>0.002116</td>\n",
       "      <td>0.007444</td>\n",
       "    </tr>\n",
       "    <tr>\n",
       "      <th>value_diff</th>\n",
       "      <td>-0.002548</td>\n",
       "      <td>0.613793</td>\n",
       "      <td>-0.615353</td>\n",
       "      <td>0.502782</td>\n",
       "      <td>1.000000</td>\n",
       "      <td>0.175957</td>\n",
       "      <td>-0.000393</td>\n",
       "      <td>-0.001348</td>\n",
       "      <td>-0.001594</td>\n",
       "    </tr>\n",
       "    <tr>\n",
       "      <th>rp_score_diff</th>\n",
       "      <td>0.048571</td>\n",
       "      <td>0.128063</td>\n",
       "      <td>-0.088245</td>\n",
       "      <td>0.133215</td>\n",
       "      <td>0.175957</td>\n",
       "      <td>1.000000</td>\n",
       "      <td>0.299436</td>\n",
       "      <td>0.134215</td>\n",
       "      <td>-0.146926</td>\n",
       "    </tr>\n",
       "    <tr>\n",
       "      <th>rp_value_diff</th>\n",
       "      <td>0.460245</td>\n",
       "      <td>0.387675</td>\n",
       "      <td>0.387561</td>\n",
       "      <td>-0.003593</td>\n",
       "      <td>-0.000393</td>\n",
       "      <td>0.299436</td>\n",
       "      <td>1.000000</td>\n",
       "      <td>0.754984</td>\n",
       "      <td>-0.022999</td>\n",
       "    </tr>\n",
       "    <tr>\n",
       "      <th>richer</th>\n",
       "      <td>0.623548</td>\n",
       "      <td>0.742925</td>\n",
       "      <td>0.743436</td>\n",
       "      <td>0.002116</td>\n",
       "      <td>-0.001348</td>\n",
       "      <td>0.134215</td>\n",
       "      <td>0.754984</td>\n",
       "      <td>1.000000</td>\n",
       "      <td>0.638206</td>\n",
       "    </tr>\n",
       "    <tr>\n",
       "      <th>poorer</th>\n",
       "      <td>0.410308</td>\n",
       "      <td>0.677507</td>\n",
       "      <td>0.678421</td>\n",
       "      <td>0.007444</td>\n",
       "      <td>-0.001594</td>\n",
       "      <td>-0.146926</td>\n",
       "      <td>-0.022999</td>\n",
       "      <td>0.638206</td>\n",
       "      <td>1.000000</td>\n",
       "    </tr>\n",
       "  </tbody>\n",
       "</table>\n",
       "</div>"
      ],
      "text/plain": [
       "               match_season  home_value  away_value  score_diff  value_diff  \\\n",
       "match_season       1.000000    0.466448    0.468859   -0.021880   -0.002548   \n",
       "home_value         0.466448    1.000000    0.244600    0.312904    0.613793   \n",
       "away_value         0.468859    0.244600    1.000000   -0.305095   -0.615353   \n",
       "score_diff        -0.021880    0.312904   -0.305095    1.000000    0.502782   \n",
       "value_diff        -0.002548    0.613793   -0.615353    0.502782    1.000000   \n",
       "rp_score_diff      0.048571    0.128063   -0.088245    0.133215    0.175957   \n",
       "rp_value_diff      0.460245    0.387675    0.387561   -0.003593   -0.000393   \n",
       "richer             0.623548    0.742925    0.743436    0.002116   -0.001348   \n",
       "poorer             0.410308    0.677507    0.678421    0.007444   -0.001594   \n",
       "\n",
       "               rp_score_diff  rp_value_diff    richer    poorer  \n",
       "match_season        0.048571       0.460245  0.623548  0.410308  \n",
       "home_value          0.128063       0.387675  0.742925  0.677507  \n",
       "away_value         -0.088245       0.387561  0.743436  0.678421  \n",
       "score_diff          0.133215      -0.003593  0.002116  0.007444  \n",
       "value_diff          0.175957      -0.000393 -0.001348 -0.001594  \n",
       "rp_score_diff       1.000000       0.299436  0.134215 -0.146926  \n",
       "rp_value_diff       0.299436       1.000000  0.754984 -0.022999  \n",
       "richer              0.134215       0.754984  1.000000  0.638206  \n",
       "poorer             -0.146926      -0.022999  0.638206  1.000000  "
      ]
     },
     "execution_count": 77,
     "metadata": {},
     "output_type": "execute_result"
    }
   ],
   "source": [
    "df.corr()"
   ]
  },
  {
   "cell_type": "code",
   "execution_count": 45,
   "metadata": {},
   "outputs": [
    {
     "data": {
      "text/html": [
       "<div>\n",
       "<style scoped>\n",
       "    .dataframe tbody tr th:only-of-type {\n",
       "        vertical-align: middle;\n",
       "    }\n",
       "\n",
       "    .dataframe tbody tr th {\n",
       "        vertical-align: top;\n",
       "    }\n",
       "\n",
       "    .dataframe thead th {\n",
       "        text-align: right;\n",
       "    }\n",
       "</style>\n",
       "<table border=\"1\" class=\"dataframe\">\n",
       "  <thead>\n",
       "    <tr style=\"text-align: right;\">\n",
       "      <th></th>\n",
       "      <th>match_season</th>\n",
       "      <th>home_value</th>\n",
       "      <th>away_value</th>\n",
       "      <th>score_diff</th>\n",
       "      <th>value_diff</th>\n",
       "      <th>rp_score_diff</th>\n",
       "      <th>rp_value_diff</th>\n",
       "      <th>richer</th>\n",
       "      <th>poorer</th>\n",
       "    </tr>\n",
       "  </thead>\n",
       "  <tbody>\n",
       "    <tr>\n",
       "      <th>count</th>\n",
       "      <td>1994.000000</td>\n",
       "      <td>1994.000000</td>\n",
       "      <td>1994.000000</td>\n",
       "      <td>1994.000000</td>\n",
       "      <td>1994.000000</td>\n",
       "      <td>1994.000000</td>\n",
       "      <td>1994.000000</td>\n",
       "      <td>1994.000000</td>\n",
       "      <td>1994.000000</td>\n",
       "    </tr>\n",
       "    <tr>\n",
       "      <th>mean</th>\n",
       "      <td>2011.477432</td>\n",
       "      <td>288.763420</td>\n",
       "      <td>289.003440</td>\n",
       "      <td>0.442327</td>\n",
       "      <td>-0.240020</td>\n",
       "      <td>0.850552</td>\n",
       "      <td>228.783872</td>\n",
       "      <td>403.275366</td>\n",
       "      <td>174.491494</td>\n",
       "    </tr>\n",
       "    <tr>\n",
       "      <th>std</th>\n",
       "      <td>4.599433</td>\n",
       "      <td>246.604186</td>\n",
       "      <td>246.984498</td>\n",
       "      <td>2.009744</td>\n",
       "      <td>303.346515</td>\n",
       "      <td>1.873772</td>\n",
       "      <td>199.125194</td>\n",
       "      <td>258.580940</td>\n",
       "      <td>169.607581</td>\n",
       "    </tr>\n",
       "    <tr>\n",
       "      <th>min</th>\n",
       "      <td>2004.000000</td>\n",
       "      <td>9.050000</td>\n",
       "      <td>9.050000</td>\n",
       "      <td>-7.000000</td>\n",
       "      <td>-1098.980000</td>\n",
       "      <td>-6.000000</td>\n",
       "      <td>0.200000</td>\n",
       "      <td>26.120000</td>\n",
       "      <td>9.050000</td>\n",
       "    </tr>\n",
       "    <tr>\n",
       "      <th>25%</th>\n",
       "      <td>2007.000000</td>\n",
       "      <td>102.570000</td>\n",
       "      <td>102.570000</td>\n",
       "      <td>-1.000000</td>\n",
       "      <td>-176.082500</td>\n",
       "      <td>0.000000</td>\n",
       "      <td>90.810000</td>\n",
       "      <td>215.950000</td>\n",
       "      <td>69.280000</td>\n",
       "    </tr>\n",
       "    <tr>\n",
       "      <th>50%</th>\n",
       "      <td>2011.000000</td>\n",
       "      <td>217.125000</td>\n",
       "      <td>216.350000</td>\n",
       "      <td>0.000000</td>\n",
       "      <td>0.000000</td>\n",
       "      <td>1.000000</td>\n",
       "      <td>176.030000</td>\n",
       "      <td>331.470000</td>\n",
       "      <td>121.050000</td>\n",
       "    </tr>\n",
       "    <tr>\n",
       "      <th>75%</th>\n",
       "      <td>2015.000000</td>\n",
       "      <td>396.500000</td>\n",
       "      <td>396.500000</td>\n",
       "      <td>2.000000</td>\n",
       "      <td>175.447500</td>\n",
       "      <td>2.000000</td>\n",
       "      <td>304.182500</td>\n",
       "      <td>542.000000</td>\n",
       "      <td>218.200000</td>\n",
       "    </tr>\n",
       "    <tr>\n",
       "      <th>max</th>\n",
       "      <td>2019.000000</td>\n",
       "      <td>1203.450000</td>\n",
       "      <td>1203.450000</td>\n",
       "      <td>8.000000</td>\n",
       "      <td>1098.980000</td>\n",
       "      <td>8.000000</td>\n",
       "      <td>1098.980000</td>\n",
       "      <td>1203.450000</td>\n",
       "      <td>1172.400000</td>\n",
       "    </tr>\n",
       "  </tbody>\n",
       "</table>\n",
       "</div>"
      ],
      "text/plain": [
       "       match_season   home_value   away_value   score_diff   value_diff  \\\n",
       "count   1994.000000  1994.000000  1994.000000  1994.000000  1994.000000   \n",
       "mean    2011.477432   288.763420   289.003440     0.442327    -0.240020   \n",
       "std        4.599433   246.604186   246.984498     2.009744   303.346515   \n",
       "min     2004.000000     9.050000     9.050000    -7.000000 -1098.980000   \n",
       "25%     2007.000000   102.570000   102.570000    -1.000000  -176.082500   \n",
       "50%     2011.000000   217.125000   216.350000     0.000000     0.000000   \n",
       "75%     2015.000000   396.500000   396.500000     2.000000   175.447500   \n",
       "max     2019.000000  1203.450000  1203.450000     8.000000  1098.980000   \n",
       "\n",
       "       rp_score_diff  rp_value_diff       richer       poorer  \n",
       "count    1994.000000    1994.000000  1994.000000  1994.000000  \n",
       "mean        0.850552     228.783872   403.275366   174.491494  \n",
       "std         1.873772     199.125194   258.580940   169.607581  \n",
       "min        -6.000000       0.200000    26.120000     9.050000  \n",
       "25%         0.000000      90.810000   215.950000    69.280000  \n",
       "50%         1.000000     176.030000   331.470000   121.050000  \n",
       "75%         2.000000     304.182500   542.000000   218.200000  \n",
       "max         8.000000    1098.980000  1203.450000  1172.400000  "
      ]
     },
     "execution_count": 45,
     "metadata": {},
     "output_type": "execute_result"
    }
   ],
   "source": [
    "df.describe()"
   ]
  },
  {
   "cell_type": "markdown",
   "metadata": {},
   "source": [
    "## Premier League TV Contract Effect\n",
    "- Sources: https://www.bbc.com/news/business-31379128#:~:text=The%20last%20TV%20rights%20auction,%C2%A37.6m%20per%20game\n",
    "- For season beginning 2016 the English Premier League sold broadcasting rights for £5.1B\n",
    "- From 2012-2015 the broadcasting rights sold for £3B\n",
    "- In the season beginning 2017 a massive spike in club value (especially the richer club) possibly influenced by previous season broadcast revenues"
   ]
  },
  {
   "cell_type": "code",
   "execution_count": 48,
   "metadata": {},
   "outputs": [
    {
     "name": "stderr",
     "output_type": "stream",
     "text": [
      "/Users/waynelam/soccer_analysis/soccer/soccer-venv/lib/python3.7/site-packages/ipykernel_launcher.py:1: FutureWarning: Indexing with multiple keys (implicitly converted to a tuple of keys) will be deprecated, use a list instead.\n",
      "  \"\"\"Entry point for launching an IPython kernel.\n"
     ]
    }
   ],
   "source": [
    "by_year = df.groupby(['match_season'])['rp_value_diff', 'richer', 'poorer'].mean().reset_index()"
   ]
  },
  {
   "cell_type": "code",
   "execution_count": 80,
   "metadata": {},
   "outputs": [
    {
     "data": {
      "image/png": "[encoded data removed]",
      "text/plain": [
       "<Figure size 432x288 with 1 Axes>"
      ]
     },
     "metadata": {
      "needs_background": "light"
     },
     "output_type": "display_data"
    }
   ],
   "source": [
    "sns.lineplot(x='match_season', y='rp_value_diff', data=by_year)\n",
    "plt.title('Mean Difference of Club Value (richer team - poorer team)')\n",
    "plt.ylabel('Total Player Value (in millions €)')\n",
    "plt.xlabel('Season (starting year)')\n",
    "plt.xticks(ticks=range(2004, 2020), rotation=60)\n",
    "plt.show()"
   ]
  },
  {
   "cell_type": "code",
   "execution_count": 64,
   "metadata": {},
   "outputs": [],
   "source": [
    "# Convert df from wide to long for seaborn plotting\n",
    "sns_df = pd.melt(\n",
    "    by_year, \n",
    "    id_vars=['match_season'], \n",
    "    value_vars=['richer', 'poorer'], \n",
    "    var_name='Relative Value',\n",
    "    value_name='Value',\n",
    ")"
   ]
  },
  {
   "cell_type": "code",
   "execution_count": 79,
   "metadata": {},
   "outputs": [
    {
     "data": {
      "image/png": "[encoded data removed]",
      "text/plain": [
       "<Figure size 432x288 with 1 Axes>"
      ]
     },
     "metadata": {
      "needs_background": "light"
     },
     "output_type": "display_data"
    }
   ],
   "source": [
    "sns.lineplot(x='match_season', y='Value', hue='Relative Value', data=sns_df)\n",
    "plt.xlabel('Season (starting year)')\n",
    "plt.ylabel('Club Value (in millions €)')\n",
    "plt.title('CL Mean Club Values by Year')\n",
    "plt.show()"
   ]
  },
  {
   "cell_type": "code",
   "execution_count": null,
   "metadata": {},
   "outputs": [],
   "source": []
  }
 ],
 "metadata": {
  "kernelspec": {
   "display_name": "soccer-venv",
   "language": "python",
   "name": "soccer-venv"
  },
  "language_info": {
   "codemirror_mode": {
    "name": "ipython",
    "version": 3
   },
   "file_extension": ".py",
   "mimetype": "text/x-python",
   "name": "python",
   "nbconvert_exporter": "python",
   "pygments_lexer": "ipython3",
   "version": "3.7.7"
  }
 },
 "nbformat": 4,
 "nbformat_minor": 4
}
