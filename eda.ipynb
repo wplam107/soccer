{
 "cells": [
  {
   "cell_type": "markdown",
   "metadata": {},
   "source": [
    "# EDA"
   ]
  },
  {
   "cell_type": "code",
   "execution_count": 1,
   "metadata": {},
   "outputs": [],
   "source": [
    "# Import packages\n",
    "import numpy as np\n",
    "import pandas as pd\n",
    "import pickle\n",
    "import plotly.express as px\n",
    "import plotly.graph_objects as go\n",
    "from plotly.subplots import make_subplots"
   ]
  },
  {
   "cell_type": "markdown",
   "metadata": {},
   "source": [
    "## Preparing data\n",
    "The data acquired from the APIs is unpickled, merged, and binned so that the effect of precipitation, wind, and temperature on a particular event (ground passes, aerial passes, etc.) may be analyzed."
   ]
  },
  {
   "cell_type": "code",
   "execution_count": 2,
   "metadata": {},
   "outputs": [],
   "source": [
    "# Load pickled data\n",
    "with open('events.p', 'rb') as f:\n",
    "    events = pickle.load(f)\n",
    "\n",
    "with open('teams.p', 'rb') as f:\n",
    "    teams = pickle.load(f)\n",
    "    \n",
    "with open('matches.p', 'rb') as f:\n",
    "    matches = pickle.load(f)\n",
    "    \n",
    "with open('players.p', 'rb') as f:\n",
    "    players = pickle.load(f)"
   ]
  },
  {
   "cell_type": "code",
   "execution_count": 3,
   "metadata": {},
   "outputs": [],
   "source": [
    "match_dicts = { match['match_id']: match for match in matches }"
   ]
  },
  {
   "cell_type": "code",
   "execution_count": 4,
   "metadata": {},
   "outputs": [],
   "source": [
    "# Function to include weather data to each event\n",
    "def add_weather(event):\n",
    "    weather = match_dicts[event['match_id']]\n",
    "    event['temp_c'] = weather['temp_c']\n",
    "    event['wind_kmph'] = weather['wind_kmph']\n",
    "    event['precip_mm'] = weather['precip_mm']\n",
    "    event['location'] = weather['location']\n",
    "    return event"
   ]
  },
  {
   "cell_type": "code",
   "execution_count": 5,
   "metadata": {},
   "outputs": [],
   "source": [
    "events = list(map(add_weather, events))"
   ]
  },
  {
   "cell_type": "code",
   "execution_count": 6,
   "metadata": {},
   "outputs": [],
   "source": [
    "df = pd.DataFrame(events)"
   ]
  },
  {
   "cell_type": "code",
   "execution_count": 7,
   "metadata": {},
   "outputs": [
    {
     "data": {
      "text/html": [
       "<div>\n",
       "<style scoped>\n",
       "    .dataframe tbody tr th:only-of-type {\n",
       "        vertical-align: middle;\n",
       "    }\n",
       "\n",
       "    .dataframe tbody tr th {\n",
       "        vertical-align: top;\n",
       "    }\n",
       "\n",
       "    .dataframe thead th {\n",
       "        text-align: right;\n",
       "    }\n",
       "</style>\n",
       "<table border=\"1\" class=\"dataframe\">\n",
       "  <thead>\n",
       "    <tr style=\"text-align: right;\">\n",
       "      <th></th>\n",
       "      <th>match_id</th>\n",
       "      <th>time</th>\n",
       "      <th>period</th>\n",
       "      <th>player</th>\n",
       "      <th>team</th>\n",
       "      <th>tags</th>\n",
       "      <th>event</th>\n",
       "      <th>subevent</th>\n",
       "      <th>start_pos_x</th>\n",
       "      <th>start_pos_y</th>\n",
       "      <th>end_pos_x</th>\n",
       "      <th>end_pos_y</th>\n",
       "      <th>temp_c</th>\n",
       "      <th>wind_kmph</th>\n",
       "      <th>precip_mm</th>\n",
       "      <th>location</th>\n",
       "    </tr>\n",
       "  </thead>\n",
       "  <tbody>\n",
       "    <tr>\n",
       "      <th>0</th>\n",
       "      <td>2499719</td>\n",
       "      <td>2.758649</td>\n",
       "      <td>1H</td>\n",
       "      <td>A. Lacazette</td>\n",
       "      <td>Arsenal</td>\n",
       "      <td>[Accurate]</td>\n",
       "      <td>Pass</td>\n",
       "      <td>Simple pass</td>\n",
       "      <td>49</td>\n",
       "      <td>49</td>\n",
       "      <td>31</td>\n",
       "      <td>78</td>\n",
       "      <td>19</td>\n",
       "      <td>15</td>\n",
       "      <td>0.0</td>\n",
       "      <td>London</td>\n",
       "    </tr>\n",
       "    <tr>\n",
       "      <th>1</th>\n",
       "      <td>2499719</td>\n",
       "      <td>4.946850</td>\n",
       "      <td>1H</td>\n",
       "      <td>R. Holding</td>\n",
       "      <td>Arsenal</td>\n",
       "      <td>[Accurate]</td>\n",
       "      <td>Pass</td>\n",
       "      <td>High pass</td>\n",
       "      <td>31</td>\n",
       "      <td>78</td>\n",
       "      <td>51</td>\n",
       "      <td>75</td>\n",
       "      <td>19</td>\n",
       "      <td>15</td>\n",
       "      <td>0.0</td>\n",
       "      <td>London</td>\n",
       "    </tr>\n",
       "    <tr>\n",
       "      <th>2</th>\n",
       "      <td>2499719</td>\n",
       "      <td>6.542188</td>\n",
       "      <td>1H</td>\n",
       "      <td>M. Özil</td>\n",
       "      <td>Arsenal</td>\n",
       "      <td>[Accurate]</td>\n",
       "      <td>Pass</td>\n",
       "      <td>Head pass</td>\n",
       "      <td>51</td>\n",
       "      <td>75</td>\n",
       "      <td>35</td>\n",
       "      <td>71</td>\n",
       "      <td>19</td>\n",
       "      <td>15</td>\n",
       "      <td>0.0</td>\n",
       "      <td>London</td>\n",
       "    </tr>\n",
       "    <tr>\n",
       "      <th>3</th>\n",
       "      <td>2499719</td>\n",
       "      <td>8.143395</td>\n",
       "      <td>1H</td>\n",
       "      <td>Mohamed Elneny</td>\n",
       "      <td>Arsenal</td>\n",
       "      <td>[Accurate]</td>\n",
       "      <td>Pass</td>\n",
       "      <td>Head pass</td>\n",
       "      <td>35</td>\n",
       "      <td>71</td>\n",
       "      <td>41</td>\n",
       "      <td>95</td>\n",
       "      <td>19</td>\n",
       "      <td>15</td>\n",
       "      <td>0.0</td>\n",
       "      <td>London</td>\n",
       "    </tr>\n",
       "    <tr>\n",
       "      <th>4</th>\n",
       "      <td>2499719</td>\n",
       "      <td>10.302366</td>\n",
       "      <td>1H</td>\n",
       "      <td>Bellerín</td>\n",
       "      <td>Arsenal</td>\n",
       "      <td>[Accurate]</td>\n",
       "      <td>Pass</td>\n",
       "      <td>Simple pass</td>\n",
       "      <td>41</td>\n",
       "      <td>95</td>\n",
       "      <td>72</td>\n",
       "      <td>88</td>\n",
       "      <td>19</td>\n",
       "      <td>15</td>\n",
       "      <td>0.0</td>\n",
       "      <td>London</td>\n",
       "    </tr>\n",
       "  </tbody>\n",
       "</table>\n",
       "</div>"
      ],
      "text/plain": [
       "   match_id       time period          player     team        tags event  \\\n",
       "0   2499719   2.758649     1H    A. Lacazette  Arsenal  [Accurate]  Pass   \n",
       "1   2499719   4.946850     1H      R. Holding  Arsenal  [Accurate]  Pass   \n",
       "2   2499719   6.542188     1H         M. Özil  Arsenal  [Accurate]  Pass   \n",
       "3   2499719   8.143395     1H  Mohamed Elneny  Arsenal  [Accurate]  Pass   \n",
       "4   2499719  10.302366     1H        Bellerín  Arsenal  [Accurate]  Pass   \n",
       "\n",
       "      subevent  start_pos_x  start_pos_y end_pos_x end_pos_y  temp_c  \\\n",
       "0  Simple pass           49           49        31        78      19   \n",
       "1    High pass           31           78        51        75      19   \n",
       "2    Head pass           51           75        35        71      19   \n",
       "3    Head pass           35           71        41        95      19   \n",
       "4  Simple pass           41           95        72        88      19   \n",
       "\n",
       "   wind_kmph  precip_mm location  \n",
       "0         15        0.0   London  \n",
       "1         15        0.0   London  \n",
       "2         15        0.0   London  \n",
       "3         15        0.0   London  \n",
       "4         15        0.0   London  "
      ]
     },
     "execution_count": 7,
     "metadata": {},
     "output_type": "execute_result"
    }
   ],
   "source": [
    "df.head()"
   ]
  },
  {
   "cell_type": "code",
   "execution_count": 8,
   "metadata": {},
   "outputs": [],
   "source": [
    "# Create pass specific DataFrame\n",
    "pass_df = df.loc[df['event'] == 'Pass'][['match_id', 'location', 'team', 'player', 'tags', 'subevent', 'precip_mm', 'wind_kmph', 'temp_c']].copy()"
   ]
  },
  {
   "cell_type": "code",
   "execution_count": 9,
   "metadata": {},
   "outputs": [],
   "source": [
    "# Function to code action success\n",
    "def acc_or_not(tags):\n",
    "    if 'Accurate' in tags:\n",
    "        return 1\n",
    "    else:\n",
    "        return 0"
   ]
  },
  {
   "cell_type": "code",
   "execution_count": 10,
   "metadata": {},
   "outputs": [],
   "source": [
    "pass_df['tags'] = pass_df['tags'].map(acc_or_not)"
   ]
  },
  {
   "cell_type": "code",
   "execution_count": 11,
   "metadata": {},
   "outputs": [],
   "source": [
    "# Bin precipitation\n",
    "x = pass_df['precip_mm']\n",
    "\n",
    "conditions = [\n",
    "    x == 0,\n",
    "    (x > 0) & (x <= 1),\n",
    "    (x > 1) & (x <= 2),\n",
    "    x > 2\n",
    "]\n",
    "\n",
    "choices = [\n",
    "    'no',\n",
    "    'light',\n",
    "    'medium',\n",
    "    'heavy'\n",
    "]\n",
    "\n",
    "pass_df['precipitation'] = np.select(conditions, choices)"
   ]
  },
  {
   "cell_type": "code",
   "execution_count": 12,
   "metadata": {},
   "outputs": [],
   "source": [
    "# Bin wind\n",
    "x = pass_df['wind_kmph']\n",
    "\n",
    "conditions = [\n",
    "    x <= 11,\n",
    "    (x > 11) & (x <= 17),\n",
    "    (x > 17) & (x <= 22),\n",
    "    x > 22\n",
    "]\n",
    "\n",
    "choices = [\n",
    "    'very_light',\n",
    "    'light',\n",
    "    'medium',\n",
    "    'heavy'\n",
    "]\n",
    "\n",
    "pass_df['wind'] = np.select(conditions, choices)"
   ]
  },
  {
   "cell_type": "code",
   "execution_count": 13,
   "metadata": {},
   "outputs": [],
   "source": [
    "# Bin temperature\n",
    "x = pass_df['temp_c']\n",
    "\n",
    "conditions = [\n",
    "    x <= 0,\n",
    "    (x > 0) & (x <= 10),\n",
    "    (x > 10) & (x <= 20),\n",
    "    x > 20\n",
    "]\n",
    "\n",
    "choices = [\n",
    "    'freezing',\n",
    "    'cool',\n",
    "    'mild',\n",
    "    'warm'\n",
    "]\n",
    "\n",
    "pass_df['temperature'] = np.select(conditions, choices)"
   ]
  },
  {
   "cell_type": "code",
   "execution_count": 14,
   "metadata": {
    "scrolled": false
   },
   "outputs": [],
   "source": [
    "# Excluding throw-ins (outfield and goalkeeper), goalkeeper long balls, and headed passes\n",
    "pdf = pd.DataFrame(\n",
    "    pass_df.loc[\n",
    "        (pass_df['subevent'] != 'Hand pass') &\n",
    "        (pass_df['subevent'] != 'Launch') &\n",
    "        (pass_df['subevent'] != 'Head pass')\n",
    "    ]\n",
    ")"
   ]
  },
  {
   "cell_type": "code",
   "execution_count": 15,
   "metadata": {},
   "outputs": [],
   "source": [
    "pdf.drop(columns=['precip_mm', 'wind_kmph', 'temp_c'], inplace=True)"
   ]
  },
  {
   "cell_type": "code",
   "execution_count": 16,
   "metadata": {},
   "outputs": [
    {
     "data": {
      "text/html": [
       "<div>\n",
       "<style scoped>\n",
       "    .dataframe tbody tr th:only-of-type {\n",
       "        vertical-align: middle;\n",
       "    }\n",
       "\n",
       "    .dataframe tbody tr th {\n",
       "        vertical-align: top;\n",
       "    }\n",
       "\n",
       "    .dataframe thead th {\n",
       "        text-align: right;\n",
       "    }\n",
       "</style>\n",
       "<table border=\"1\" class=\"dataframe\">\n",
       "  <thead>\n",
       "    <tr style=\"text-align: right;\">\n",
       "      <th></th>\n",
       "      <th>match_id</th>\n",
       "      <th>location</th>\n",
       "      <th>team</th>\n",
       "      <th>player</th>\n",
       "      <th>tags</th>\n",
       "      <th>subevent</th>\n",
       "      <th>precipitation</th>\n",
       "      <th>wind</th>\n",
       "      <th>temperature</th>\n",
       "    </tr>\n",
       "  </thead>\n",
       "  <tbody>\n",
       "    <tr>\n",
       "      <th>0</th>\n",
       "      <td>2499719</td>\n",
       "      <td>London</td>\n",
       "      <td>Arsenal</td>\n",
       "      <td>A. Lacazette</td>\n",
       "      <td>1</td>\n",
       "      <td>Simple pass</td>\n",
       "      <td>no</td>\n",
       "      <td>light</td>\n",
       "      <td>mild</td>\n",
       "    </tr>\n",
       "    <tr>\n",
       "      <th>1</th>\n",
       "      <td>2499719</td>\n",
       "      <td>London</td>\n",
       "      <td>Arsenal</td>\n",
       "      <td>R. Holding</td>\n",
       "      <td>1</td>\n",
       "      <td>High pass</td>\n",
       "      <td>no</td>\n",
       "      <td>light</td>\n",
       "      <td>mild</td>\n",
       "    </tr>\n",
       "    <tr>\n",
       "      <th>4</th>\n",
       "      <td>2499719</td>\n",
       "      <td>London</td>\n",
       "      <td>Arsenal</td>\n",
       "      <td>Bellerín</td>\n",
       "      <td>1</td>\n",
       "      <td>Simple pass</td>\n",
       "      <td>no</td>\n",
       "      <td>light</td>\n",
       "      <td>mild</td>\n",
       "    </tr>\n",
       "    <tr>\n",
       "      <th>5</th>\n",
       "      <td>2499719</td>\n",
       "      <td>London</td>\n",
       "      <td>Arsenal</td>\n",
       "      <td>M. Özil</td>\n",
       "      <td>0</td>\n",
       "      <td>Simple pass</td>\n",
       "      <td>no</td>\n",
       "      <td>light</td>\n",
       "      <td>mild</td>\n",
       "    </tr>\n",
       "    <tr>\n",
       "      <th>11</th>\n",
       "      <td>2499719</td>\n",
       "      <td>London</td>\n",
       "      <td>Arsenal</td>\n",
       "      <td>S. Kolašinac</td>\n",
       "      <td>1</td>\n",
       "      <td>High pass</td>\n",
       "      <td>no</td>\n",
       "      <td>light</td>\n",
       "      <td>mild</td>\n",
       "    </tr>\n",
       "  </tbody>\n",
       "</table>\n",
       "</div>"
      ],
      "text/plain": [
       "    match_id location     team        player  tags     subevent precipitation  \\\n",
       "0    2499719   London  Arsenal  A. Lacazette     1  Simple pass            no   \n",
       "1    2499719   London  Arsenal    R. Holding     1    High pass            no   \n",
       "4    2499719   London  Arsenal      Bellerín     1  Simple pass            no   \n",
       "5    2499719   London  Arsenal       M. Özil     0  Simple pass            no   \n",
       "11   2499719   London  Arsenal  S. Kolašinac     1    High pass            no   \n",
       "\n",
       "     wind temperature  \n",
       "0   light        mild  \n",
       "1   light        mild  \n",
       "4   light        mild  \n",
       "5   light        mild  \n",
       "11  light        mild  "
      ]
     },
     "execution_count": 16,
     "metadata": {},
     "output_type": "execute_result"
    }
   ],
   "source": [
    "pdf.head()"
   ]
  },
  {
   "cell_type": "markdown",
   "metadata": {},
   "source": [
    "## Overall Rates\n",
    "Note: Smart passes (by WyScout) are defined as passes made between 2+ opposing players\n",
    "\n",
    "Completion Rates:\n",
    "- Overall: 84%\n",
    "- Simple: 91%\n",
    "- High: 53%\n",
    "- Cross: 30%\n",
    "- Smart: 39%"
   ]
  },
  {
   "cell_type": "code",
   "execution_count": 17,
   "metadata": {},
   "outputs": [
    {
     "data": {
      "text/plain": [
       "1    0.848726\n",
       "0    0.151274\n",
       "Name: tags, dtype: float64"
      ]
     },
     "execution_count": 17,
     "metadata": {},
     "output_type": "execute_result"
    }
   ],
   "source": [
    "# Overall accuracy rate of passes\n",
    "pdf['tags'].value_counts(normalize=True)"
   ]
  },
  {
   "cell_type": "code",
   "execution_count": 18,
   "metadata": {},
   "outputs": [
    {
     "data": {
      "text/plain": [
       "Simple pass    0.853366\n",
       "High pass      0.085087\n",
       "Cross          0.041585\n",
       "Smart pass     0.019962\n",
       "Name: subevent, dtype: float64"
      ]
     },
     "execution_count": 18,
     "metadata": {},
     "output_type": "execute_result"
    }
   ],
   "source": [
    "# Overall rate of pass types\n",
    "pdf['subevent'].value_counts(normalize=True)"
   ]
  },
  {
   "cell_type": "code",
   "execution_count": 19,
   "metadata": {},
   "outputs": [
    {
     "data": {
      "text/plain": [
       "subevent     tags\n",
       "Cross        0       0.692923\n",
       "             1       0.307077\n",
       "High pass    1       0.537160\n",
       "             0       0.462840\n",
       "Simple pass  1       0.916859\n",
       "             0       0.083141\n",
       "Smart pass   0       0.607550\n",
       "             1       0.392450\n",
       "Name: tags, dtype: float64"
      ]
     },
     "execution_count": 19,
     "metadata": {},
     "output_type": "execute_result"
    }
   ],
   "source": [
    "# Overall success rate of pass types\n",
    "pdf.groupby('subevent')['tags'].value_counts(normalize=True)"
   ]
  },
  {
   "cell_type": "code",
   "execution_count": 49,
   "metadata": {},
   "outputs": [],
   "source": [
    "# Function to group categories\n",
    "def group_passes(df, options=None):\n",
    "    if options == None:\n",
    "        options = [ col for col in list(df.columns) if col != 'tags' ]\n",
    "    else:\n",
    "        options = options\n",
    "        \n",
    "    data = pd.DataFrame(\n",
    "        df.groupby(options)['tags'].value_counts()\n",
    "    ).unstack()\n",
    "    \n",
    "    data.columns = [ col[1] for col in data.columns ]\n",
    "    data.reset_index(inplace=True)\n",
    "    data.rename(columns={0: 'not_accurate', 1: 'accurate', 'subevent': 'pass_type'}, inplace=True)\n",
    "    \n",
    "    data['not_accurate'] = np.where(data['not_accurate'].isna(), 0, data['not_accurate'])\n",
    "    data['accurate'] = np.where(data['accurate'].isna(), 0, data['accurate'])\n",
    "    data['total'] = data['not_accurate'] + data['accurate']\n",
    "    \n",
    "    return data"
   ]
  },
  {
   "cell_type": "code",
   "execution_count": 72,
   "metadata": {},
   "outputs": [],
   "source": [
    "options = ['match_id', 'team', 'subevent', 'temperature', 'wind', 'precipitation']\n",
    "data = group_passes(pdf, options=options)"
   ]
  },
  {
   "cell_type": "code",
   "execution_count": 85,
   "metadata": {},
   "outputs": [
    {
     "data": {
      "text/plain": [
       "temperature\n",
       "cool        97.553515\n",
       "freezing    97.526786\n",
       "mild        96.631537\n",
       "warm        99.281250\n",
       "Name: total, dtype: float64"
      ]
     },
     "execution_count": 85,
     "metadata": {},
     "output_type": "execute_result"
    }
   ],
   "source": [
    "data.groupby(['temperature'])['total'].mean()"
   ]
  },
  {
   "cell_type": "code",
   "execution_count": 75,
   "metadata": {},
   "outputs": [
    {
     "data": {
      "text/plain": [
       "temperature  pass_type  \n",
       "cool         Cross           16.295455\n",
       "             High pass       33.204545\n",
       "             Simple pass    331.851010\n",
       "             Smart pass       7.728900\n",
       "freezing     Cross           12.892857\n",
       "             High pass       32.678571\n",
       "             Simple pass    335.142857\n",
       "             Smart pass       9.392857\n",
       "mild         Cross           16.237179\n",
       "             High pass       32.910256\n",
       "             Simple pass    328.153846\n",
       "             Smart pass       7.801303\n",
       "warm         Cross           15.458333\n",
       "             High pass       30.625000\n",
       "             Simple pass    342.666667\n",
       "             Smart pass       8.375000\n",
       "Name: total, dtype: float64"
      ]
     },
     "execution_count": 75,
     "metadata": {},
     "output_type": "execute_result"
    }
   ],
   "source": [
    "data.groupby(['temperature', 'pass_type'])['total'].mean()"
   ]
  },
  {
   "cell_type": "code",
   "execution_count": 74,
   "metadata": {},
   "outputs": [],
   "source": [
    "def choose_cat(df, col, cat):\n",
    "    data = df.loc[df[col] == cat]  \n",
    "    return data"
   ]
  },
  {
   "cell_type": "code",
   "execution_count": 68,
   "metadata": {
    "scrolled": false
   },
   "outputs": [],
   "source": [
    "plot_df = choose_cat(data, 'team', 'Arsenal')"
   ]
  },
  {
   "cell_type": "code",
   "execution_count": 70,
   "metadata": {
    "scrolled": true
   },
   "outputs": [
    {
     "data": {
      "text/plain": [
       "temperature\n",
       "cool        571.285714\n",
       "freezing    461.000000\n",
       "mild        546.230769\n",
       "warm        555.000000\n",
       "Name: total, dtype: float64"
      ]
     },
     "execution_count": 70,
     "metadata": {},
     "output_type": "execute_result"
    }
   ],
   "source": [
    "plot_df.groupby('temperature')['total'].mean()"
   ]
  },
  {
   "cell_type": "code",
   "execution_count": null,
   "metadata": {},
   "outputs": [],
   "source": []
  }
 ],
 "metadata": {
  "kernelspec": {
   "display_name": "soccer-venv",
   "language": "python",
   "name": "soccer-venv"
  },
  "language_info": {
   "codemirror_mode": {
    "name": "ipython",
    "version": 3
   },
   "file_extension": ".py",
   "mimetype": "text/x-python",
   "name": "python",
   "nbconvert_exporter": "python",
   "pygments_lexer": "ipython3",
   "version": "3.7.7"
  }
 },
 "nbformat": 4,
 "nbformat_minor": 4
}
