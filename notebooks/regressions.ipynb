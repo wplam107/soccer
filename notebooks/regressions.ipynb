{
 "cells": [
  {
   "cell_type": "markdown",
   "metadata": {},
   "source": [
    "# Linear Regressions"
   ]
  },
  {
   "cell_type": "code",
   "execution_count": 16,
   "metadata": {},
   "outputs": [],
   "source": [
    "import numpy as np\n",
    "import pandas as pd\n",
    "import pickle\n",
    "import matplotlib.pyplot as plt\n",
    "import seaborn as sns\n",
    "from sklearn.linear_model import LinearRegression"
   ]
  },
  {
   "cell_type": "code",
   "execution_count": 2,
   "metadata": {},
   "outputs": [],
   "source": [
    "with open('passes.p', 'rb') as f:\n",
    "    df = pickle.load(f)"
   ]
  },
  {
   "cell_type": "code",
   "execution_count": 6,
   "metadata": {},
   "outputs": [
    {
     "data": {
      "text/html": [
       "<div>\n",
       "<style scoped>\n",
       "    .dataframe tbody tr th:only-of-type {\n",
       "        vertical-align: middle;\n",
       "    }\n",
       "\n",
       "    .dataframe tbody tr th {\n",
       "        vertical-align: top;\n",
       "    }\n",
       "\n",
       "    .dataframe thead th {\n",
       "        text-align: right;\n",
       "    }\n",
       "</style>\n",
       "<table border=\"1\" class=\"dataframe\">\n",
       "  <thead>\n",
       "    <tr style=\"text-align: right;\">\n",
       "      <th></th>\n",
       "      <th>match_id</th>\n",
       "      <th>location</th>\n",
       "      <th>team</th>\n",
       "      <th>player</th>\n",
       "      <th>tags</th>\n",
       "      <th>subevent</th>\n",
       "      <th>precip_mm</th>\n",
       "      <th>wind_kmph</th>\n",
       "      <th>temp_c</th>\n",
       "      <th>precipitation</th>\n",
       "      <th>wind</th>\n",
       "      <th>temperature</th>\n",
       "    </tr>\n",
       "  </thead>\n",
       "  <tbody>\n",
       "    <tr>\n",
       "      <th>0</th>\n",
       "      <td>2499719</td>\n",
       "      <td>London</td>\n",
       "      <td>Arsenal</td>\n",
       "      <td>A. Lacazette</td>\n",
       "      <td>1</td>\n",
       "      <td>Simple pass</td>\n",
       "      <td>0.0</td>\n",
       "      <td>15</td>\n",
       "      <td>19</td>\n",
       "      <td>no</td>\n",
       "      <td>light</td>\n",
       "      <td>mild</td>\n",
       "    </tr>\n",
       "    <tr>\n",
       "      <th>1</th>\n",
       "      <td>2499719</td>\n",
       "      <td>London</td>\n",
       "      <td>Arsenal</td>\n",
       "      <td>R. Holding</td>\n",
       "      <td>1</td>\n",
       "      <td>High pass</td>\n",
       "      <td>0.0</td>\n",
       "      <td>15</td>\n",
       "      <td>19</td>\n",
       "      <td>no</td>\n",
       "      <td>light</td>\n",
       "      <td>mild</td>\n",
       "    </tr>\n",
       "    <tr>\n",
       "      <th>2</th>\n",
       "      <td>2499719</td>\n",
       "      <td>London</td>\n",
       "      <td>Arsenal</td>\n",
       "      <td>M. Özil</td>\n",
       "      <td>1</td>\n",
       "      <td>Head pass</td>\n",
       "      <td>0.0</td>\n",
       "      <td>15</td>\n",
       "      <td>19</td>\n",
       "      <td>no</td>\n",
       "      <td>light</td>\n",
       "      <td>mild</td>\n",
       "    </tr>\n",
       "    <tr>\n",
       "      <th>3</th>\n",
       "      <td>2499719</td>\n",
       "      <td>London</td>\n",
       "      <td>Arsenal</td>\n",
       "      <td>Mohamed Elneny</td>\n",
       "      <td>1</td>\n",
       "      <td>Head pass</td>\n",
       "      <td>0.0</td>\n",
       "      <td>15</td>\n",
       "      <td>19</td>\n",
       "      <td>no</td>\n",
       "      <td>light</td>\n",
       "      <td>mild</td>\n",
       "    </tr>\n",
       "    <tr>\n",
       "      <th>4</th>\n",
       "      <td>2499719</td>\n",
       "      <td>London</td>\n",
       "      <td>Arsenal</td>\n",
       "      <td>Bellerín</td>\n",
       "      <td>1</td>\n",
       "      <td>Simple pass</td>\n",
       "      <td>0.0</td>\n",
       "      <td>15</td>\n",
       "      <td>19</td>\n",
       "      <td>no</td>\n",
       "      <td>light</td>\n",
       "      <td>mild</td>\n",
       "    </tr>\n",
       "  </tbody>\n",
       "</table>\n",
       "</div>"
      ],
      "text/plain": [
       "   match_id location     team          player  tags     subevent  precip_mm  \\\n",
       "0   2499719   London  Arsenal    A. Lacazette     1  Simple pass        0.0   \n",
       "1   2499719   London  Arsenal      R. Holding     1    High pass        0.0   \n",
       "2   2499719   London  Arsenal         M. Özil     1    Head pass        0.0   \n",
       "3   2499719   London  Arsenal  Mohamed Elneny     1    Head pass        0.0   \n",
       "4   2499719   London  Arsenal        Bellerín     1  Simple pass        0.0   \n",
       "\n",
       "   wind_kmph  temp_c precipitation   wind temperature  \n",
       "0         15      19            no  light        mild  \n",
       "1         15      19            no  light        mild  \n",
       "2         15      19            no  light        mild  \n",
       "3         15      19            no  light        mild  \n",
       "4         15      19            no  light        mild  "
      ]
     },
     "execution_count": 6,
     "metadata": {},
     "output_type": "execute_result"
    }
   ],
   "source": [
    "df.head()"
   ]
  },
  {
   "cell_type": "code",
   "execution_count": 39,
   "metadata": {},
   "outputs": [],
   "source": [
    "# Create DataFrame of only match conditions (explanatory variables) and passes (target variables)\n",
    "lrdf = df.groupby(\n",
    "    ['match_id', 'precip_mm', 'wind_kmph', 'temp_c']\n",
    ")['tags'].value_counts().unstack().reset_index()\n",
    "lrdf['total'] = lrdf[0] + lrdf[1]\n",
    "lrdf.rename(columns={0: 'not_accurate', 1: 'accurate'}, inplace=True)\n",
    "lrdf.drop(columns='match_id', inplace=True)"
   ]
  },
  {
   "cell_type": "code",
   "execution_count": 42,
   "metadata": {},
   "outputs": [
    {
     "data": {
      "text/html": [
       "<div>\n",
       "<style scoped>\n",
       "    .dataframe tbody tr th:only-of-type {\n",
       "        vertical-align: middle;\n",
       "    }\n",
       "\n",
       "    .dataframe tbody tr th {\n",
       "        vertical-align: top;\n",
       "    }\n",
       "\n",
       "    .dataframe thead th {\n",
       "        text-align: right;\n",
       "    }\n",
       "</style>\n",
       "<table border=\"1\" class=\"dataframe\">\n",
       "  <thead>\n",
       "    <tr style=\"text-align: right;\">\n",
       "      <th>tags</th>\n",
       "      <th>precip_mm</th>\n",
       "      <th>wind_kmph</th>\n",
       "      <th>temp_c</th>\n",
       "      <th>not_accurate</th>\n",
       "      <th>accurate</th>\n",
       "      <th>total</th>\n",
       "    </tr>\n",
       "  </thead>\n",
       "  <tbody>\n",
       "    <tr>\n",
       "      <th>0</th>\n",
       "      <td>0.0</td>\n",
       "      <td>15</td>\n",
       "      <td>19</td>\n",
       "      <td>157</td>\n",
       "      <td>679</td>\n",
       "      <td>836</td>\n",
       "    </tr>\n",
       "    <tr>\n",
       "      <th>1</th>\n",
       "      <td>0.1</td>\n",
       "      <td>22</td>\n",
       "      <td>18</td>\n",
       "      <td>132</td>\n",
       "      <td>806</td>\n",
       "      <td>938</td>\n",
       "    </tr>\n",
       "    <tr>\n",
       "      <th>2</th>\n",
       "      <td>0.0</td>\n",
       "      <td>14</td>\n",
       "      <td>20</td>\n",
       "      <td>113</td>\n",
       "      <td>699</td>\n",
       "      <td>812</td>\n",
       "    </tr>\n",
       "    <tr>\n",
       "      <th>3</th>\n",
       "      <td>0.0</td>\n",
       "      <td>14</td>\n",
       "      <td>20</td>\n",
       "      <td>158</td>\n",
       "      <td>485</td>\n",
       "      <td>643</td>\n",
       "    </tr>\n",
       "    <tr>\n",
       "      <th>4</th>\n",
       "      <td>0.5</td>\n",
       "      <td>20</td>\n",
       "      <td>16</td>\n",
       "      <td>138</td>\n",
       "      <td>611</td>\n",
       "      <td>749</td>\n",
       "    </tr>\n",
       "  </tbody>\n",
       "</table>\n",
       "</div>"
      ],
      "text/plain": [
       "tags  precip_mm  wind_kmph  temp_c  not_accurate  accurate  total\n",
       "0           0.0         15      19           157       679    836\n",
       "1           0.1         22      18           132       806    938\n",
       "2           0.0         14      20           113       699    812\n",
       "3           0.0         14      20           158       485    643\n",
       "4           0.5         20      16           138       611    749"
      ]
     },
     "execution_count": 42,
     "metadata": {},
     "output_type": "execute_result"
    }
   ],
   "source": [
    "lrdf.head()"
   ]
  },
  {
   "cell_type": "markdown",
   "metadata": {},
   "source": [
    "## Quick Additional EDA\n",
    "A quick look into how the data appears"
   ]
  },
  {
   "cell_type": "code",
   "execution_count": 43,
   "metadata": {},
   "outputs": [
    {
     "data": {
      "image/png": "[encoded data removed]",
      "text/plain": [
       "<Figure size 432x288 with 1 Axes>"
      ]
     },
     "metadata": {
      "needs_background": "light"
     },
     "output_type": "display_data"
    },
    {
     "data": {
      "image/png": "[encoded data removed]",
      "text/plain": [
       "<Figure size 432x288 with 1 Axes>"
      ]
     },
     "metadata": {
      "needs_background": "light"
     },
     "output_type": "display_data"
    },
    {
     "data": {
      "image/png": "[encoded data removed]",
      "text/plain": [
       "<Figure size 432x288 with 1 Axes>"
      ]
     },
     "metadata": {
      "needs_background": "light"
     },
     "output_type": "display_data"
    }
   ],
   "source": [
    "for w in ['precip_mm', 'wind_kmph', 'temp_c']:\n",
    "    sns.scatterplot(data=lrdf, x=w, y='total')\n",
    "    plt.show()"
   ]
  },
  {
   "cell_type": "markdown",
   "metadata": {},
   "source": [
    "## Quick Regression\n",
    "###  Total passes in a match\n",
    "No transformations, raw weather data as predictors of match passes:\n",
    "\n",
    "\\\\(R^2 = 0.0015\\\\)\n",
    "\n",
    "As expected, very poor value."
   ]
  },
  {
   "cell_type": "code",
   "execution_count": 56,
   "metadata": {},
   "outputs": [],
   "source": [
    "options = ['temp_c', 'precip_mm', 'wind_kmph']\n",
    "X = lrdf[options]\n",
    "y = lrdf['total']"
   ]
  },
  {
   "cell_type": "code",
   "execution_count": 57,
   "metadata": {},
   "outputs": [],
   "source": [
    "lin_reg = LinearRegression()\n",
    "model = lin_reg.fit(X, y)"
   ]
  },
  {
   "cell_type": "code",
   "execution_count": 59,
   "metadata": {},
   "outputs": [
    {
     "data": {
      "text/plain": [
       "0.0015"
      ]
     },
     "execution_count": 59,
     "metadata": {},
     "output_type": "execute_result"
    }
   ],
   "source": [
    "# R^2 score\n",
    "round(model.score(X, y), 4)"
   ]
  },
  {
   "cell_type": "markdown",
   "metadata": {},
   "source": [
    "### Total passes in a match by team\n",
    "Highest \\\\(R^2 = 0.2085\\\\), Manchester City\n",
    "\n",
    "Lowest \\\\(R^2 = 0.0042 \\\\), Huddersfield Town\n",
    "\n",
    "Notes: "
   ]
  },
  {
   "cell_type": "code",
   "execution_count": 63,
   "metadata": {},
   "outputs": [],
   "source": [
    "def choose_team(df, team):\n",
    "    df = df.loc[df['team'] == team]\n",
    "    lrdf = df.groupby(\n",
    "        ['match_id', 'precip_mm', 'wind_kmph', 'temp_c']\n",
    "    )['tags'].value_counts().unstack().reset_index()\n",
    "    lrdf['total'] = lrdf[0] + lrdf[1]\n",
    "    lrdf.rename(columns={0: 'not_accurate', 1: 'accurate'}, inplace=True)\n",
    "    lrdf.drop(columns='match_id', inplace=True)\n",
    "    return lrdf"
   ]
  },
  {
   "cell_type": "code",
   "execution_count": 72,
   "metadata": {},
   "outputs": [
    {
     "name": "stdout",
     "output_type": "stream",
     "text": [
      "Arsenal R-Squared: 0.102\n",
      "Leicester City R-Squared: 0.1126\n",
      "Manchester City R-Squared: 0.2085\n",
      "Brighton & Hove Albion R-Squared: 0.0831\n",
      "Burnley R-Squared: 0.073\n",
      "Chelsea R-Squared: 0.1136\n",
      "Crystal Palace R-Squared: 0.1065\n",
      "Huddersfield Town R-Squared: 0.0042\n",
      "Everton R-Squared: 0.1397\n",
      "Stoke City R-Squared: 0.0302\n",
      "Manchester United R-Squared: 0.0539\n",
      "West Ham United R-Squared: 0.051\n",
      "Newcastle United R-Squared: 0.0486\n",
      "Tottenham Hotspur R-Squared: 0.0271\n",
      "Swansea City R-Squared: 0.0629\n",
      "Southampton R-Squared: 0.1885\n",
      "Watford R-Squared: 0.0427\n",
      "Liverpool R-Squared: 0.0092\n",
      "West Bromwich Albion R-Squared: 0.1942\n",
      "AFC Bournemouth R-Squared: 0.0633\n",
      "------------------------------\n",
      "Highest R-Squared: 0.2085, Manchester City\n",
      "Lowest r-Squared: 0.0042, Huddersfield Town\n"
     ]
    }
   ],
   "source": [
    "# Track highest and lowest R^2 values\n",
    "high = 0\n",
    "low = None\n",
    "highest = None\n",
    "lowest = None\n",
    "\n",
    "# Track R^2 Values by team to determine if pass volume influences accuracy of model\n",
    "r_sq_values = []\n",
    "for team in df['team'].unique():\n",
    "    team_df = choose_team(df, team)\n",
    "    options = ['temp_c', 'precip_mm', 'wind_kmph']\n",
    "    X = team_df[options]\n",
    "    y = team_df['total']\n",
    "    lin_reg = LinearRegression()\n",
    "    model = lin_reg.fit(X, y)\n",
    "    r_squared = round(model.score(X, y), 4)\n",
    "    r_sq_values.append(r_squared)\n",
    "    print(f'{team} R-Squared: {r_squared}')\n",
    "    if low == None:\n",
    "        low = r_squared\n",
    "        lowest = team\n",
    "    if high < r_squared:\n",
    "        high = r_squared\n",
    "        highest = team\n",
    "    if low > r_squared:\n",
    "        low = r_squared\n",
    "        lowest = team\n",
    "print('-'*30)\n",
    "print(f'Highest R-Squared: {high}, {highest}')\n",
    "print(f'Lowest r-Squared: {low}, {lowest}')"
   ]
  },
  {
   "cell_type": "code",
   "execution_count": null,
   "metadata": {},
   "outputs": [],
   "source": []
  }
 ],
 "metadata": {
  "kernelspec": {
   "display_name": "soccer-venv",
   "language": "python",
   "name": "soccer-venv"
  },
  "language_info": {
   "codemirror_mode": {
    "name": "ipython",
    "version": 3
   },
   "file_extension": ".py",
   "mimetype": "text/x-python",
   "name": "python",
   "nbconvert_exporter": "python",
   "pygments_lexer": "ipython3",
   "version": "3.7.7"
  }
 },
 "nbformat": 4,
 "nbformat_minor": 4
}
