{
 "cells": [
  {
   "cell_type": "markdown",
   "metadata": {},
   "source": [
    "# Scraping English Premier League 2017-2018 Season\n",
    "Scraping notebook for a look into whether or not weather affects players' efficiency or style of play.\n",
    "\n",
    "Data from:\n",
    "- Pappalardo et al., (2019) A public data set of spatio-temporal match events in soccer competitions, Nature Scientific Data 6:236, https://www.nature.com/articles/s41597-019-0247-7\n",
    "- Pappalardo et al. (2019) PlayeRank: Data-driven Performance Evaluation and Player Ranking in Soccer via a Machine Learning Approach. ACM Transactions on Intellingent Systems and Technologies (TIST) 10, 5, Article 59 (September 2019), 27 pages. DOI: https://doi.org/10.1145/3343172"
   ]
  },
  {
   "cell_type": "code",
   "execution_count": 133,
   "metadata": {},
   "outputs": [],
   "source": [
    "import json\n",
    "import re\n",
    "import requests\n",
    "import pandas as pd\n",
    "import configparser\n",
    "import datetime\n",
    "import pickle"
   ]
  },
  {
   "cell_type": "code",
   "execution_count": 2,
   "metadata": {},
   "outputs": [],
   "source": [
    "# Individual events across all matches\n",
    "file_path = './events/events_England.json'\n",
    "with open(file_path) as file:\n",
    "    events = json.load(file)\n",
    "\n",
    "# Matches\n",
    "file_path = './matches/matches_England.json'\n",
    "with open(file_path) as file:\n",
    "    matches = json.load(file)\n",
    "\n",
    "# Players\n",
    "file_path = './players.json'\n",
    "with open(file_path) as file:\n",
    "    players = json.load(file)\n",
    "\n",
    "# Teams\n",
    "file_path = './teams.json'\n",
    "with open(file_path) as file:\n",
    "    teams = json.load(file)"
   ]
  },
  {
   "cell_type": "code",
   "execution_count": 3,
   "metadata": {},
   "outputs": [],
   "source": [
    "# Only keep EPL teams\n",
    "epl_teams = [ team for team in teams if team['area']['id'] == '0' and team['type'] == 'club' ]\n",
    "epl_team_ids = [ team['wyId'] for team in epl_teams ]\n",
    "\n",
    "# Only keep EPL players\n",
    "epl_players = [ player for player in players if player['currentTeamId'] in epl_team_ids ]\n",
    "epl_player_ids = [ player['wyId'] for player in epl_players ]"
   ]
  },
  {
   "cell_type": "markdown",
   "metadata": {},
   "source": [
    "## Formatting EPL JSON Data\n",
    "Each match, player, team, and match event will be formatted into a dictionary."
   ]
  },
  {
   "cell_type": "code",
   "execution_count": 4,
   "metadata": {},
   "outputs": [],
   "source": [
    "# Convert team ids to names\n",
    "teams_dict = {}\n",
    "for team in epl_teams:\n",
    "    teams_dict[f\"{team['wyId']}\"] = team['name']"
   ]
  },
  {
   "cell_type": "code",
   "execution_count": 81,
   "metadata": {},
   "outputs": [],
   "source": [
    "# Function to format teams\n",
    "def formatting_team(team):\n",
    "    team_id = f\"{team['wyId']}\"\n",
    "    name = team['name']\n",
    "    city = team['city']\n",
    "    \n",
    "    new_team = {\n",
    "        'team_id': team_id,\n",
    "        'name': name,\n",
    "        'city': city\n",
    "    }\n",
    "    \n",
    "    return new_team"
   ]
  },
  {
   "cell_type": "code",
   "execution_count": 82,
   "metadata": {},
   "outputs": [],
   "source": [
    "formatted_teams = list(map(formatting_team, epl_teams))"
   ]
  },
  {
   "cell_type": "code",
   "execution_count": 174,
   "metadata": {},
   "outputs": [],
   "source": [
    "# Function to format matches\n",
    "def format_match(match):\n",
    "    a_id = list(match['teamsData'].keys())[0]\n",
    "    b_id = list(match['teamsData'].keys())[1]\n",
    "    \n",
    "    # Match identifiers\n",
    "    match_id = match['wyId']\n",
    "    dt = match['dateutc']\n",
    "    date = str(datetime.datetime.strptime(dt, '%Y-%m-%d %H:%M:%S').date())\n",
    "    time = ''.join(str(datetime.datetime.strptime(dt, '%Y-%m-%d %H:%M:%S').time())[:5].split(':'))\n",
    "    \n",
    "    # Home and away team\n",
    "    if match['teamsData'][a_id]['side'] == 'home':\n",
    "        home_team = a_id\n",
    "        away_team = b_id\n",
    "    else:\n",
    "        home_team = b_id\n",
    "        away_team = a_id\n",
    "    \n",
    "    # Location\n",
    "    location = None\n",
    "    for team in formatted_teams:\n",
    "        if team['team_id'] == home_team:\n",
    "            location = team['city']\n",
    "    \n",
    "    # Score\n",
    "    score = (match['teamsData'][home_team]['score'], match['teamsData'][away_team]['score'])\n",
    "    \n",
    "    new_match = {\n",
    "        'match_id': match_id,\n",
    "        'date': date,\n",
    "        'time': time,\n",
    "        'location': location,\n",
    "        'home_team': teams_dict[home_team],\n",
    "        'away_team': teams_dict[away_team],\n",
    "        'score': score\n",
    "    }\n",
    "    \n",
    "    return new_match"
   ]
  },
  {
   "cell_type": "code",
   "execution_count": 175,
   "metadata": {},
   "outputs": [],
   "source": [
    "formatted_matches = list(map(format_match, matches))"
   ]
  },
  {
   "cell_type": "code",
   "execution_count": 86,
   "metadata": {},
   "outputs": [],
   "source": [
    "# Function to fix incorrect encoding, error in encode(latin-1)->decode(utf-8)\n",
    "def word_replace(string):\n",
    "    string.encode('latin-1')\n",
    "    string = string.replace('\\\\u00f0', '\\u00f0')\n",
    "    string = string.replace('\\\\u00ad', '')\n",
    "    string = string.replace('\\\\u00d6', '\\u00d6')\n",
    "    string = string.replace('\\\\u00ed', '\\u00ed')\n",
    "    string = string.replace('\\\\u010d', '\\u010d')\n",
    "    string = string.replace('\\\\u0107', '\\u0107')\n",
    "    string = string.replace('\\\\u00e9', '\\u00e9')\n",
    "    string = string.replace('\\\\u0141', '\\u0141')\n",
    "    string = string.replace('\\\\u00f6', '\\u00f6')\n",
    "    string = string.replace('\\\\u0144', '\\u0144')\n",
    "    string = string.replace('\\\\u00e1', '\\u00e1')\n",
    "    string = string.replace('\\\\u00fc', '\\u00fc')\n",
    "    string = string.replace('\\\\u0130', '\\u0130')\n",
    "    string = string.replace('\\\\u011f', '\\u011f')\n",
    "    string = string.replace('\\\\u00e4', '\\u00e4')\n",
    "    string = string.replace('\\\\u00f8', '\\u00f8')\n",
    "    string = string.replace('\\\\u00c1', '\\u00c1')\n",
    "    string = string.replace('\\\\u00fa', '\\u00fa')\n",
    "    string = string.replace('\\\\u010c', '\\u010c')\n",
    "    string = string.replace('\\\\u00e0', '\\u00e0')\n",
    "    string = string.replace('\\\\u00f3', '\\u00f3')\n",
    "    string = string.replace('\\\\u00df', '\\u00df')\n",
    "    string = string.replace('\\\\u0161', '\\u0161')\n",
    "    string = string.replace('\\\\u00de', '\\u00de')\n",
    "    string = string.replace('\\\\u00eb', '\\u00eb')\n",
    "    string = string.replace('\\\\u00f1', '\\u00f1')\n",
    "    string = string.replace('\\\\u00ef', '\\u00ef')\n",
    "    return string"
   ]
  },
  {
   "cell_type": "code",
   "execution_count": 87,
   "metadata": {},
   "outputs": [],
   "source": [
    "# Convert player ids to names\n",
    "players_dict = {}\n",
    "for player in epl_players:\n",
    "    players_dict[f\"{player['wyId']}\"] = word_replace(player['shortName'])"
   ]
  },
  {
   "cell_type": "code",
   "execution_count": 88,
   "metadata": {},
   "outputs": [],
   "source": [
    "# Function to format players\n",
    "def format_player(player):\n",
    "    player_id = player['wyId']\n",
    "    country = player['passportArea']['name']\n",
    "    name = word_replace(player['shortName'])\n",
    "    first_name = word_replace(player['firstName'].strip())\n",
    "    last_name = word_replace(player['lastName'])\n",
    "    team = teams_dict[f\"{player['currentTeamId']}\"]\n",
    "    role = player['role']['name']\n",
    "    \n",
    "    new_player = {\n",
    "        'player_id': player_id,\n",
    "        'abb_name': name,\n",
    "        'first_name': first_name,\n",
    "        'last_name': last_name,\n",
    "        'team': team,\n",
    "        'role': role,\n",
    "        'nationality': country\n",
    "    }\n",
    "    \n",
    "    return new_player"
   ]
  },
  {
   "cell_type": "code",
   "execution_count": 89,
   "metadata": {},
   "outputs": [],
   "source": [
    "formatted_players = list(map(format_player, epl_players))"
   ]
  },
  {
   "cell_type": "code",
   "execution_count": 90,
   "metadata": {
    "scrolled": true
   },
   "outputs": [],
   "source": [
    "# Action by player\n",
    "event_tags = pd.read_csv('tags2name.csv')\n",
    "tag_dict = event_tags.set_index('Tag').to_dict()['Description']"
   ]
  },
  {
   "cell_type": "code",
   "execution_count": 91,
   "metadata": {},
   "outputs": [],
   "source": [
    "# Function to format events\n",
    "def formatting_event(event):\n",
    "    match_id = event['matchId']\n",
    "    time = event['eventSec']\n",
    "    period = event['matchPeriod']\n",
    "    \n",
    "    try:\n",
    "        player = players_dict[f\"{event['playerId']}\"]\n",
    "    except:\n",
    "        player = 'null'\n",
    "        \n",
    "    team = teams_dict[f\"{event['teamId']}\"]\n",
    "    tag_labels = [ tag_dict[tag['id']] for tag in event['tags'] ]\n",
    "    event_label = event['eventName']\n",
    "    subevent_label = event['subEventName']\n",
    "    \n",
    "    \n",
    "    start_pos_x = event['positions'][0]['x']\n",
    "    start_pos_y = event['positions'][0]['y']\n",
    "    \n",
    "    if len(event['positions']) > 1:\n",
    "        end_pos_x = event['positions'][1]['x']\n",
    "        end_pos_y = event['positions'][1]['y']\n",
    "    else:\n",
    "        end_pos_x = 'null'\n",
    "        end_pos_y = 'null'\n",
    "    \n",
    "    new_event = {\n",
    "        'match_id': match_id,\n",
    "        'time': time,\n",
    "        'period': period,\n",
    "        'player': player,\n",
    "        'team': team,\n",
    "        'tags': tag_labels,\n",
    "        'event': event_label,\n",
    "        'subevent': subevent_label,\n",
    "        'start_pos_x': start_pos_x,\n",
    "        'start_pos_y': start_pos_y,\n",
    "        'end_pos_x': end_pos_x,\n",
    "        'end_pos_y': end_pos_y\n",
    "    }\n",
    "    \n",
    "    return new_event"
   ]
  },
  {
   "cell_type": "code",
   "execution_count": 92,
   "metadata": {},
   "outputs": [],
   "source": [
    "formatted_events = list(map(formatting_event, events))"
   ]
  },
  {
   "cell_type": "markdown",
   "metadata": {},
   "source": [
    "## Retrieve Weather Data\n",
    "Weather data acquired from the [World Weather Online](https://www.worldweatheronline.com/) API is added to the match dictionaries using the closest temperature (C), wind (km/h), and precipitation (mm) observations to match time."
   ]
  },
  {
   "cell_type": "code",
   "execution_count": 102,
   "metadata": {},
   "outputs": [],
   "source": [
    "# Config World Weather Online API\n",
    "config = configparser.ConfigParser()\n",
    "config.read('config.ini')\n",
    "api_key = config.get('wwo', 'WWO_API_KEY')"
   ]
  },
  {
   "cell_type": "code",
   "execution_count": 136,
   "metadata": {},
   "outputs": [],
   "source": [
    "# Get weather of city and date of each match\n",
    "results = []\n",
    "for match in formatted_matches:\n",
    "    city = match['location']\n",
    "    date = match['date']\n",
    "    url = f'https://api.worldweatheronline.com/premium/v1/past-weather.ashx?key={api_key}&q={city}&format=json&date={date}'\n",
    "    r = requests.get(url)\n",
    "    results.append(r)"
   ]
  },
  {
   "cell_type": "code",
   "execution_count": 189,
   "metadata": {},
   "outputs": [],
   "source": [
    "weather = [ r.json()['data']['weather'][0]['hourly'] for r in results ]"
   ]
  },
  {
   "cell_type": "code",
   "execution_count": 218,
   "metadata": {},
   "outputs": [],
   "source": [
    "# Function to add closest weather observations to match time\n",
    "def co_times(tup):\n",
    "    match = tup[0]\n",
    "    weather = tup[1]\n",
    "    # Find closest observation\n",
    "    match_time = int(match['time'])\n",
    "    closest = None\n",
    "    diff = None\n",
    "    for time in weather:\n",
    "        hour = int(time['time'])\n",
    "        if closest == None:\n",
    "            closest = time\n",
    "            diff = abs(match_time - hour)\n",
    "        else:\n",
    "            if abs(match_time - hour) < diff:\n",
    "                diff = abs(match_time - hour)\n",
    "                closest = time\n",
    "    \n",
    "    # Add closest weather data to match\n",
    "    match['time'] = match_time\n",
    "    match['temp_c'] = int(closest['tempC'])\n",
    "    match['wind_kmph'] = int(closest['windspeedKmph'])\n",
    "    match['precip_mm'] = float(closest['precipMM'])\n",
    "    \n",
    "    return match"
   ]
  },
  {
   "cell_type": "code",
   "execution_count": 220,
   "metadata": {},
   "outputs": [],
   "source": [
    "final_matches = list(map(co_times, zip(formatted_matches, weather)))"
   ]
  }
 ],
 "metadata": {
  "kernelspec": {
   "display_name": "soccer-venv",
   "language": "python",
   "name": "soccer-venv"
  },
  "language_info": {
   "codemirror_mode": {
    "name": "ipython",
    "version": 3
   },
   "file_extension": ".py",
   "mimetype": "text/x-python",
   "name": "python",
   "nbconvert_exporter": "python",
   "pygments_lexer": "ipython3",
   "version": "3.7.7"
  }
 },
 "nbformat": 4,
 "nbformat_minor": 4
}
