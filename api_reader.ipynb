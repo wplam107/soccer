{
 "cells": [
  {
   "cell_type": "code",
   "execution_count": null,
   "metadata": {},
   "outputs": [],
   "source": [
    "import numpy as np\n",
    "import pandas as pd\n",
    "import requests\n",
    "import re\n",
    "from bs4 import BeautifulSoup\n",
    "\n",
    "import pickle"
   ]
  },
  {
   "cell_type": "code",
   "execution_count": 2,
   "metadata": {},
   "outputs": [],
   "source": [
    "base_url = 'https://www.transfermarkt.com/uefa-champions-league/gesamtspielplan/pokalwettbewerb/CL/saison_id/'\n",
    "ua = 'Mozilla/5.0 (Macintosh; Intel Mac OS X 10_11_6) AppleWebKit/537.36 (KHTML, like Gecko) Chrome/61.0.3163.100 Safari/537.36'\n",
    "headers = {\n",
    "    'User-Agent': ua\n",
    "}"
   ]
  },
  {
   "cell_type": "code",
   "execution_count": 7,
   "metadata": {},
   "outputs": [],
   "source": [
    "# Function for defining latest season\n",
    "def which_season():\n",
    "    today = datetime.date.today()\n",
    "    if today.month > 8:\n",
    "        season = today.year\n",
    "    else:\n",
    "        season = today.year - 1\n",
    "    \n",
    "    return season\n",
    "\n",
    "# Function to get match data\n",
    "def get_match(match):\n",
    "    links = match.find_all('a')\n",
    "    home_team = links[0].text.strip()\n",
    "    home_href = links[0]['href']\n",
    "    away_team = links[4].text.strip()\n",
    "    away_href = links[4]['href']\n",
    "    score = links[2].text.strip()\n",
    "    \n",
    "    return home_team, home_href, away_team, away_href, score\n",
    "\n",
    "# Get player value\n",
    "def get_value(player):\n",
    "    if re.search('m', player):\n",
    "        value = float(player[1:-1])\n",
    "    elif re.search('Th.', player):\n",
    "        value = float(player[1:-3]) * 0.001\n",
    "    else:\n",
    "        value = 0\n",
    "        \n",
    "    return value\n",
    "\n",
    "# Get team value\n",
    "def get_t_value(team, teams):\n",
    "    url = teams[team]['href']\n",
    "    r = requests.get(url, headers=headers)\n",
    "    soup = BeautifulSoup(r.text)\n",
    "    odds = soup.find_all('tr', attrs={'odd'})\n",
    "    evens = soup.find_all('tr', attrs={'even'})\n",
    "    total = 0\n",
    "    for player in odds:\n",
    "        pv = player.find_all('td')[-1].text.strip()\n",
    "        total += get_value(pv)\n",
    "\n",
    "    for player in evens:\n",
    "        pv = player.find_all('td')[-1].text.strip()\n",
    "        total += get_value(pv)\n",
    "\n",
    "    return round(total, 2)"
   ]
  },
  {
   "cell_type": "code",
   "execution_count": 8,
   "metadata": {},
   "outputs": [],
   "source": [
    "# Function to get seasonal data\n",
    "def get_season(year):\n",
    "    # Assert given year within CL seasons with transfer market data (2004 to present)\n",
    "    min_season = 2004\n",
    "    max_season = which_season()\n",
    "    season_range = range(min_season, max_season + 1)\n",
    "    assert year in season_range, f'Season (beginning) must be 2004 through {max_season}'\n",
    "    \n",
    "    # Get elements of match rows\n",
    "    r = requests.get(base_url + str(year), headers=headers)\n",
    "    soup = BeautifulSoup(r.text)\n",
    "    match_reps = soup.find_all(attrs={'title' : 'Match report'})\n",
    "    match_eles = [ match.parent.parent for match in match_reps ]\n",
    "    \n",
    "    # Create season match dictionary\n",
    "    matches = []\n",
    "    teams = {}\n",
    "    tm_url = 'https://www.transfermarkt.com'\n",
    "    for match in match_eles:\n",
    "        # Use get_match function to get match data\n",
    "        home_team, home_href, away_team, away_href, score = get_match(match)\n",
    "        \n",
    "        if home_href not in teams.keys():\n",
    "            teams[home_team] = {'href': tm_url + home_href}\n",
    "        if away_href not in teams.keys():\n",
    "            teams[away_team] = {'href': tm_url + away_href}\n",
    "            \n",
    "        match_dict = {\n",
    "            'home_team': home_team,\n",
    "            'away_team': away_team,\n",
    "            'score': score,\n",
    "            'match_season': year,\n",
    "        }\n",
    "        matches.append(match_dict)\n",
    "    \n",
    "    # Use helper 'get value' functions\n",
    "    team_values = {}\n",
    "    for team in teams.keys():\n",
    "        team_values[team] = get_t_value(team, teams)\n",
    "    \n",
    "    # Combine data\n",
    "    for match in matches:\n",
    "        match['home_value'] = team_values[match['home_team']]\n",
    "        match['away_value'] = team_values[match['away_team']]\n",
    "        \n",
    "    return matches"
   ]
  },
  {
   "cell_type": "code",
   "execution_count": null,
   "metadata": {},
   "outputs": [],
   "source": [
    "cl_matches = []\n",
    "for year in range(2004, 2019):\n",
    "    cl_matches + get_season(year)"
   ]
  },
  {
   "cell_type": "code",
   "execution_count": null,
   "metadata": {},
   "outputs": [],
   "source": [
    "cl_matches[:10]"
   ]
  },
  {
   "cell_type": "code",
   "execution_count": null,
   "metadata": {},
   "outputs": [],
   "source": [
    "with open('cl_matches.p', 'wb') as f:\n",
    "    pickle.dump(cl_matches, f)"
   ]
  },
  {
   "cell_type": "code",
   "execution_count": null,
   "metadata": {},
   "outputs": [],
   "source": []
  }
 ],
 "metadata": {
  "kernelspec": {
   "display_name": "soccer-venv",
   "language": "python",
   "name": "soccer-venv"
  },
  "language_info": {
   "codemirror_mode": {
    "name": "ipython",
    "version": 3
   },
   "file_extension": ".py",
   "mimetype": "text/x-python",
   "name": "python",
   "nbconvert_exporter": "python",
   "pygments_lexer": "ipython3",
   "version": "3.7.7"
  }
 },
 "nbformat": 4,
 "nbformat_minor": 4
}
